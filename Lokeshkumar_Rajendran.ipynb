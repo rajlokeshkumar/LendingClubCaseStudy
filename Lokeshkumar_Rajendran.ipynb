{
 "cells": [
  {
   "cell_type": "code",
   "execution_count": 1,
   "id": "c0095bc2-4058-4750-b4f7-df3fec74bc74",
   "metadata": {},
   "outputs": [
    {
     "name": "stdout",
     "output_type": "stream",
     "text": [
      "<class 'pandas.core.frame.DataFrame'>\n",
      "RangeIndex: 39717 entries, 0 to 39716\n",
      "Columns: 111 entries, id to total_il_high_credit_limit\n",
      "dtypes: float64(74), int64(13), object(24)\n",
      "memory usage: 33.6+ MB\n"
     ]
    },
    {
     "name": "stderr",
     "output_type": "stream",
     "text": [
      "C:\\Users\\lokes\\AppData\\Local\\Temp\\ipykernel_26864\\1163031722.py:10: DtypeWarning: Columns (47) have mixed types. Specify dtype option on import or set low_memory=False.\n",
      "  cust_data=pd.read_csv(\"D:/upgrad_projects/case_study_1/loan.csv\")\n"
     ]
    }
   ],
   "source": [
    "# importing the libraries \n",
    "\n",
    "import numpy as np\n",
    "import pandas as pd\n",
    "import seaborn as sns \n",
    "import matplotlib.pyplot as plt\n",
    "import matplotlib as plt1\n",
    "\n",
    "#loading the data from the csv file\n",
    "cust_data=pd.read_csv(\"loan.csv\")\n",
    "cust_data.info()"
   ]
  },
  {
   "cell_type": "markdown",
   "id": "88be1ada-7123-4f87-be71-8eda3bd8ebc8",
   "metadata": {},
   "source": [
    "**Listing the completely empty columns as this will be of no use in the analysis**"
   ]
  },
  {
   "cell_type": "code",
   "execution_count": 3,
   "id": "e8e272ee-4cac-4e33-a183-5d555129ca23",
   "metadata": {},
   "outputs": [
    {
     "data": {
      "text/plain": [
       "54"
      ]
     },
     "execution_count": 3,
     "metadata": {},
     "output_type": "execute_result"
    }
   ],
   "source": [
    "empty_columns=cust_data.columns[cust_data.isna().all()]\n",
    "empty_columns.size"
   ]
  },
  {
   "cell_type": "code",
   "execution_count": 4,
   "id": "9c86996f-81b3-4bfd-bd4d-183ea3b4b446",
   "metadata": {},
   "outputs": [
    {
     "name": "stdout",
     "output_type": "stream",
     "text": [
      "<class 'pandas.core.frame.DataFrame'>\n",
      "RangeIndex: 39717 entries, 0 to 39716\n",
      "Data columns (total 57 columns):\n",
      " #   Column                      Non-Null Count  Dtype  \n",
      "---  ------                      --------------  -----  \n",
      " 0   id                          39717 non-null  int64  \n",
      " 1   member_id                   39717 non-null  int64  \n",
      " 2   loan_amnt                   39717 non-null  int64  \n",
      " 3   funded_amnt                 39717 non-null  int64  \n",
      " 4   funded_amnt_inv             39717 non-null  float64\n",
      " 5   term                        39717 non-null  object \n",
      " 6   int_rate                    39717 non-null  object \n",
      " 7   installment                 39717 non-null  float64\n",
      " 8   grade                       39717 non-null  object \n",
      " 9   sub_grade                   39717 non-null  object \n",
      " 10  emp_title                   37258 non-null  object \n",
      " 11  emp_length                  38642 non-null  object \n",
      " 12  home_ownership              39717 non-null  object \n",
      " 13  annual_inc                  39717 non-null  float64\n",
      " 14  verification_status         39717 non-null  object \n",
      " 15  issue_d                     39717 non-null  object \n",
      " 16  loan_status                 39717 non-null  object \n",
      " 17  pymnt_plan                  39717 non-null  object \n",
      " 18  url                         39717 non-null  object \n",
      " 19  desc                        26775 non-null  object \n",
      " 20  purpose                     39717 non-null  object \n",
      " 21  title                       39706 non-null  object \n",
      " 22  zip_code                    39717 non-null  object \n",
      " 23  addr_state                  39717 non-null  object \n",
      " 24  dti                         39717 non-null  float64\n",
      " 25  delinq_2yrs                 39717 non-null  int64  \n",
      " 26  earliest_cr_line            39717 non-null  object \n",
      " 27  inq_last_6mths              39717 non-null  int64  \n",
      " 28  mths_since_last_delinq      14035 non-null  float64\n",
      " 29  mths_since_last_record      2786 non-null   float64\n",
      " 30  open_acc                    39717 non-null  int64  \n",
      " 31  pub_rec                     39717 non-null  int64  \n",
      " 32  revol_bal                   39717 non-null  int64  \n",
      " 33  revol_util                  39667 non-null  object \n",
      " 34  total_acc                   39717 non-null  int64  \n",
      " 35  initial_list_status         39717 non-null  object \n",
      " 36  out_prncp                   39717 non-null  float64\n",
      " 37  out_prncp_inv               39717 non-null  float64\n",
      " 38  total_pymnt                 39717 non-null  float64\n",
      " 39  total_pymnt_inv             39717 non-null  float64\n",
      " 40  total_rec_prncp             39717 non-null  float64\n",
      " 41  total_rec_int               39717 non-null  float64\n",
      " 42  total_rec_late_fee          39717 non-null  float64\n",
      " 43  recoveries                  39717 non-null  float64\n",
      " 44  collection_recovery_fee     39717 non-null  float64\n",
      " 45  last_pymnt_d                39646 non-null  object \n",
      " 46  last_pymnt_amnt             39717 non-null  float64\n",
      " 47  next_pymnt_d                1140 non-null   object \n",
      " 48  last_credit_pull_d          39715 non-null  object \n",
      " 49  collections_12_mths_ex_med  39661 non-null  float64\n",
      " 50  policy_code                 39717 non-null  int64  \n",
      " 51  application_type            39717 non-null  object \n",
      " 52  acc_now_delinq              39717 non-null  int64  \n",
      " 53  chargeoff_within_12_mths    39661 non-null  float64\n",
      " 54  delinq_amnt                 39717 non-null  int64  \n",
      " 55  pub_rec_bankruptcies        39020 non-null  float64\n",
      " 56  tax_liens                   39678 non-null  float64\n",
      "dtypes: float64(20), int64(13), object(24)\n",
      "memory usage: 17.3+ MB\n"
     ]
    }
   ],
   "source": [
    "#removed the 54 columns which are completely empty \n",
    "cust_cleaned=cust_data.dropna(axis=1,how='all')\n",
    "cust_cleaned.info()"
   ]
  },
  {
   "cell_type": "markdown",
   "id": "27220d47-d148-42b0-99f7-2fc47bb2885e",
   "metadata": {},
   "source": [
    "**calculating the percentage of null values in the column, so that the column with higer percentage can be removed**"
   ]
  },
  {
   "cell_type": "code",
   "execution_count": 6,
   "id": "0f2b889a-ea43-4b9b-8424-23b10814a925",
   "metadata": {},
   "outputs": [
    {
     "data": {
      "text/plain": [
       "id                             0.000000\n",
       "member_id                      0.000000\n",
       "loan_amnt                      0.000000\n",
       "funded_amnt                    0.000000\n",
       "funded_amnt_inv                0.000000\n",
       "term                           0.000000\n",
       "int_rate                       0.000000\n",
       "installment                    0.000000\n",
       "grade                          0.000000\n",
       "sub_grade                      0.000000\n",
       "emp_title                      6.191303\n",
       "emp_length                     2.706650\n",
       "home_ownership                 0.000000\n",
       "annual_inc                     0.000000\n",
       "verification_status            0.000000\n",
       "issue_d                        0.000000\n",
       "loan_status                    0.000000\n",
       "pymnt_plan                     0.000000\n",
       "url                            0.000000\n",
       "desc                          32.585543\n",
       "purpose                        0.000000\n",
       "title                          0.027696\n",
       "zip_code                       0.000000\n",
       "addr_state                     0.000000\n",
       "dti                            0.000000\n",
       "delinq_2yrs                    0.000000\n",
       "earliest_cr_line               0.000000\n",
       "inq_last_6mths                 0.000000\n",
       "mths_since_last_delinq        64.662487\n",
       "mths_since_last_record        92.985372\n",
       "open_acc                       0.000000\n",
       "pub_rec                        0.000000\n",
       "revol_bal                      0.000000\n",
       "revol_util                     0.125891\n",
       "total_acc                      0.000000\n",
       "initial_list_status            0.000000\n",
       "out_prncp                      0.000000\n",
       "out_prncp_inv                  0.000000\n",
       "total_pymnt                    0.000000\n",
       "total_pymnt_inv                0.000000\n",
       "total_rec_prncp                0.000000\n",
       "total_rec_int                  0.000000\n",
       "total_rec_late_fee             0.000000\n",
       "recoveries                     0.000000\n",
       "collection_recovery_fee        0.000000\n",
       "last_pymnt_d                   0.178765\n",
       "last_pymnt_amnt                0.000000\n",
       "next_pymnt_d                  97.129693\n",
       "last_credit_pull_d             0.005036\n",
       "collections_12_mths_ex_med     0.140998\n",
       "policy_code                    0.000000\n",
       "application_type               0.000000\n",
       "acc_now_delinq                 0.000000\n",
       "chargeoff_within_12_mths       0.140998\n",
       "delinq_amnt                    0.000000\n",
       "pub_rec_bankruptcies           1.754916\n",
       "tax_liens                      0.098195\n",
       "dtype: float64"
      ]
     },
     "execution_count": 6,
     "metadata": {},
     "output_type": "execute_result"
    }
   ],
   "source": [
    "cust_cleaned.isna().mean()*100"
   ]
  },
  {
   "cell_type": "code",
   "execution_count": 7,
   "id": "6fa0943b-7a54-4a58-8920-6bd15ffd566b",
   "metadata": {},
   "outputs": [
    {
     "data": {
      "text/plain": [
       "id                            0.000000\n",
       "member_id                     0.000000\n",
       "loan_amnt                     0.000000\n",
       "funded_amnt                   0.000000\n",
       "funded_amnt_inv               0.000000\n",
       "term                          0.000000\n",
       "int_rate                      0.000000\n",
       "installment                   0.000000\n",
       "grade                         0.000000\n",
       "sub_grade                     0.000000\n",
       "emp_title                     6.191303\n",
       "emp_length                    2.706650\n",
       "home_ownership                0.000000\n",
       "annual_inc                    0.000000\n",
       "verification_status           0.000000\n",
       "issue_d                       0.000000\n",
       "loan_status                   0.000000\n",
       "pymnt_plan                    0.000000\n",
       "url                           0.000000\n",
       "purpose                       0.000000\n",
       "title                         0.027696\n",
       "zip_code                      0.000000\n",
       "addr_state                    0.000000\n",
       "dti                           0.000000\n",
       "delinq_2yrs                   0.000000\n",
       "earliest_cr_line              0.000000\n",
       "inq_last_6mths                0.000000\n",
       "open_acc                      0.000000\n",
       "pub_rec                       0.000000\n",
       "revol_bal                     0.000000\n",
       "revol_util                    0.125891\n",
       "total_acc                     0.000000\n",
       "initial_list_status           0.000000\n",
       "out_prncp                     0.000000\n",
       "out_prncp_inv                 0.000000\n",
       "total_pymnt                   0.000000\n",
       "total_pymnt_inv               0.000000\n",
       "total_rec_prncp               0.000000\n",
       "total_rec_int                 0.000000\n",
       "total_rec_late_fee            0.000000\n",
       "recoveries                    0.000000\n",
       "collection_recovery_fee       0.000000\n",
       "last_pymnt_d                  0.178765\n",
       "last_pymnt_amnt               0.000000\n",
       "last_credit_pull_d            0.005036\n",
       "collections_12_mths_ex_med    0.140998\n",
       "policy_code                   0.000000\n",
       "application_type              0.000000\n",
       "acc_now_delinq                0.000000\n",
       "chargeoff_within_12_mths      0.140998\n",
       "delinq_amnt                   0.000000\n",
       "pub_rec_bankruptcies          1.754916\n",
       "tax_liens                     0.098195\n",
       "dtype: float64"
      ]
     },
     "execution_count": 7,
     "metadata": {},
     "output_type": "execute_result"
    }
   ],
   "source": [
    "#mths_since_last_delinq, mths_since_last_record ,next_pymnt_d   has more the 30% of values as null values so removing the columns\n",
    "\n",
    "cust_cleaned=cust_cleaned.drop(labels=[\"mths_since_last_delinq\",\"mths_since_last_record\",\"next_pymnt_d\",\"desc\"],axis=1);\n",
    "cust_cleaned.isna().mean()*100"
   ]
  },
  {
   "cell_type": "code",
   "execution_count": 8,
   "id": "589664dd-0b3a-48f5-bbfc-90a90099e0d1",
   "metadata": {},
   "outputs": [
    {
     "name": "stdout",
     "output_type": "stream",
     "text": [
      "<class 'pandas.core.frame.DataFrame'>\n",
      "RangeIndex: 39717 entries, 0 to 39716\n",
      "Data columns (total 53 columns):\n",
      " #   Column                      Non-Null Count  Dtype  \n",
      "---  ------                      --------------  -----  \n",
      " 0   id                          39717 non-null  int64  \n",
      " 1   member_id                   39717 non-null  int64  \n",
      " 2   loan_amnt                   39717 non-null  int64  \n",
      " 3   funded_amnt                 39717 non-null  int64  \n",
      " 4   funded_amnt_inv             39717 non-null  float64\n",
      " 5   term                        39717 non-null  object \n",
      " 6   int_rate                    39717 non-null  object \n",
      " 7   installment                 39717 non-null  float64\n",
      " 8   grade                       39717 non-null  object \n",
      " 9   sub_grade                   39717 non-null  object \n",
      " 10  emp_title                   37258 non-null  object \n",
      " 11  emp_length                  38642 non-null  object \n",
      " 12  home_ownership              39717 non-null  object \n",
      " 13  annual_inc                  39717 non-null  float64\n",
      " 14  verification_status         39717 non-null  object \n",
      " 15  issue_d                     39717 non-null  object \n",
      " 16  loan_status                 39717 non-null  object \n",
      " 17  pymnt_plan                  39717 non-null  object \n",
      " 18  url                         39717 non-null  object \n",
      " 19  purpose                     39717 non-null  object \n",
      " 20  title                       39706 non-null  object \n",
      " 21  zip_code                    39717 non-null  object \n",
      " 22  addr_state                  39717 non-null  object \n",
      " 23  dti                         39717 non-null  float64\n",
      " 24  delinq_2yrs                 39717 non-null  int64  \n",
      " 25  earliest_cr_line            39717 non-null  object \n",
      " 26  inq_last_6mths              39717 non-null  int64  \n",
      " 27  open_acc                    39717 non-null  int64  \n",
      " 28  pub_rec                     39717 non-null  int64  \n",
      " 29  revol_bal                   39717 non-null  int64  \n",
      " 30  revol_util                  39667 non-null  object \n",
      " 31  total_acc                   39717 non-null  int64  \n",
      " 32  initial_list_status         39717 non-null  object \n",
      " 33  out_prncp                   39717 non-null  float64\n",
      " 34  out_prncp_inv               39717 non-null  float64\n",
      " 35  total_pymnt                 39717 non-null  float64\n",
      " 36  total_pymnt_inv             39717 non-null  float64\n",
      " 37  total_rec_prncp             39717 non-null  float64\n",
      " 38  total_rec_int               39717 non-null  float64\n",
      " 39  total_rec_late_fee          39717 non-null  float64\n",
      " 40  recoveries                  39717 non-null  float64\n",
      " 41  collection_recovery_fee     39717 non-null  float64\n",
      " 42  last_pymnt_d                39646 non-null  object \n",
      " 43  last_pymnt_amnt             39717 non-null  float64\n",
      " 44  last_credit_pull_d          39715 non-null  object \n",
      " 45  collections_12_mths_ex_med  39661 non-null  float64\n",
      " 46  policy_code                 39717 non-null  int64  \n",
      " 47  application_type            39717 non-null  object \n",
      " 48  acc_now_delinq              39717 non-null  int64  \n",
      " 49  chargeoff_within_12_mths    39661 non-null  float64\n",
      " 50  delinq_amnt                 39717 non-null  int64  \n",
      " 51  pub_rec_bankruptcies        39020 non-null  float64\n",
      " 52  tax_liens                   39678 non-null  float64\n",
      "dtypes: float64(18), int64(13), object(22)\n",
      "memory usage: 16.1+ MB\n"
     ]
    }
   ],
   "source": [
    "cust_cleaned.info()"
   ]
  },
  {
   "cell_type": "code",
   "execution_count": 9,
   "id": "84ad4c65-232e-4761-b910-df3464a8eb5a",
   "metadata": {},
   "outputs": [
    {
     "data": {
      "text/html": [
       "<div>\n",
       "<style scoped>\n",
       "    .dataframe tbody tr th:only-of-type {\n",
       "        vertical-align: middle;\n",
       "    }\n",
       "\n",
       "    .dataframe tbody tr th {\n",
       "        vertical-align: top;\n",
       "    }\n",
       "\n",
       "    .dataframe thead th {\n",
       "        text-align: right;\n",
       "    }\n",
       "</style>\n",
       "<table border=\"1\" class=\"dataframe\">\n",
       "  <thead>\n",
       "    <tr style=\"text-align: right;\">\n",
       "      <th></th>\n",
       "      <th>id</th>\n",
       "      <th>member_id</th>\n",
       "      <th>loan_amnt</th>\n",
       "      <th>funded_amnt</th>\n",
       "      <th>funded_amnt_inv</th>\n",
       "      <th>term</th>\n",
       "      <th>int_rate</th>\n",
       "      <th>installment</th>\n",
       "      <th>grade</th>\n",
       "      <th>sub_grade</th>\n",
       "      <th>...</th>\n",
       "      <th>last_pymnt_amnt</th>\n",
       "      <th>last_credit_pull_d</th>\n",
       "      <th>collections_12_mths_ex_med</th>\n",
       "      <th>policy_code</th>\n",
       "      <th>application_type</th>\n",
       "      <th>acc_now_delinq</th>\n",
       "      <th>chargeoff_within_12_mths</th>\n",
       "      <th>delinq_amnt</th>\n",
       "      <th>pub_rec_bankruptcies</th>\n",
       "      <th>tax_liens</th>\n",
       "    </tr>\n",
       "  </thead>\n",
       "  <tbody>\n",
       "    <tr>\n",
       "      <th>0</th>\n",
       "      <td>1077501</td>\n",
       "      <td>1296599</td>\n",
       "      <td>5000</td>\n",
       "      <td>5000</td>\n",
       "      <td>4975.0</td>\n",
       "      <td>36 months</td>\n",
       "      <td>10.65%</td>\n",
       "      <td>162.87</td>\n",
       "      <td>B</td>\n",
       "      <td>B2</td>\n",
       "      <td>...</td>\n",
       "      <td>171.62</td>\n",
       "      <td>May-16</td>\n",
       "      <td>0.0</td>\n",
       "      <td>1</td>\n",
       "      <td>INDIVIDUAL</td>\n",
       "      <td>0</td>\n",
       "      <td>0.0</td>\n",
       "      <td>0</td>\n",
       "      <td>0.0</td>\n",
       "      <td>0.0</td>\n",
       "    </tr>\n",
       "    <tr>\n",
       "      <th>1</th>\n",
       "      <td>1077430</td>\n",
       "      <td>1314167</td>\n",
       "      <td>2500</td>\n",
       "      <td>2500</td>\n",
       "      <td>2500.0</td>\n",
       "      <td>60 months</td>\n",
       "      <td>15.27%</td>\n",
       "      <td>59.83</td>\n",
       "      <td>C</td>\n",
       "      <td>C4</td>\n",
       "      <td>...</td>\n",
       "      <td>119.66</td>\n",
       "      <td>Sep-13</td>\n",
       "      <td>0.0</td>\n",
       "      <td>1</td>\n",
       "      <td>INDIVIDUAL</td>\n",
       "      <td>0</td>\n",
       "      <td>0.0</td>\n",
       "      <td>0</td>\n",
       "      <td>0.0</td>\n",
       "      <td>0.0</td>\n",
       "    </tr>\n",
       "    <tr>\n",
       "      <th>2</th>\n",
       "      <td>1077175</td>\n",
       "      <td>1313524</td>\n",
       "      <td>2400</td>\n",
       "      <td>2400</td>\n",
       "      <td>2400.0</td>\n",
       "      <td>36 months</td>\n",
       "      <td>15.96%</td>\n",
       "      <td>84.33</td>\n",
       "      <td>C</td>\n",
       "      <td>C5</td>\n",
       "      <td>...</td>\n",
       "      <td>649.91</td>\n",
       "      <td>May-16</td>\n",
       "      <td>0.0</td>\n",
       "      <td>1</td>\n",
       "      <td>INDIVIDUAL</td>\n",
       "      <td>0</td>\n",
       "      <td>0.0</td>\n",
       "      <td>0</td>\n",
       "      <td>0.0</td>\n",
       "      <td>0.0</td>\n",
       "    </tr>\n",
       "    <tr>\n",
       "      <th>3</th>\n",
       "      <td>1076863</td>\n",
       "      <td>1277178</td>\n",
       "      <td>10000</td>\n",
       "      <td>10000</td>\n",
       "      <td>10000.0</td>\n",
       "      <td>36 months</td>\n",
       "      <td>13.49%</td>\n",
       "      <td>339.31</td>\n",
       "      <td>C</td>\n",
       "      <td>C1</td>\n",
       "      <td>...</td>\n",
       "      <td>357.48</td>\n",
       "      <td>Apr-16</td>\n",
       "      <td>0.0</td>\n",
       "      <td>1</td>\n",
       "      <td>INDIVIDUAL</td>\n",
       "      <td>0</td>\n",
       "      <td>0.0</td>\n",
       "      <td>0</td>\n",
       "      <td>0.0</td>\n",
       "      <td>0.0</td>\n",
       "    </tr>\n",
       "    <tr>\n",
       "      <th>4</th>\n",
       "      <td>1075358</td>\n",
       "      <td>1311748</td>\n",
       "      <td>3000</td>\n",
       "      <td>3000</td>\n",
       "      <td>3000.0</td>\n",
       "      <td>60 months</td>\n",
       "      <td>12.69%</td>\n",
       "      <td>67.79</td>\n",
       "      <td>B</td>\n",
       "      <td>B5</td>\n",
       "      <td>...</td>\n",
       "      <td>67.79</td>\n",
       "      <td>May-16</td>\n",
       "      <td>0.0</td>\n",
       "      <td>1</td>\n",
       "      <td>INDIVIDUAL</td>\n",
       "      <td>0</td>\n",
       "      <td>0.0</td>\n",
       "      <td>0</td>\n",
       "      <td>0.0</td>\n",
       "      <td>0.0</td>\n",
       "    </tr>\n",
       "  </tbody>\n",
       "</table>\n",
       "<p>5 rows × 53 columns</p>\n",
       "</div>"
      ],
      "text/plain": [
       "        id  member_id  loan_amnt  funded_amnt  funded_amnt_inv        term  \\\n",
       "0  1077501    1296599       5000         5000           4975.0   36 months   \n",
       "1  1077430    1314167       2500         2500           2500.0   60 months   \n",
       "2  1077175    1313524       2400         2400           2400.0   36 months   \n",
       "3  1076863    1277178      10000        10000          10000.0   36 months   \n",
       "4  1075358    1311748       3000         3000           3000.0   60 months   \n",
       "\n",
       "  int_rate  installment grade sub_grade  ... last_pymnt_amnt  \\\n",
       "0   10.65%       162.87     B        B2  ...          171.62   \n",
       "1   15.27%        59.83     C        C4  ...          119.66   \n",
       "2   15.96%        84.33     C        C5  ...          649.91   \n",
       "3   13.49%       339.31     C        C1  ...          357.48   \n",
       "4   12.69%        67.79     B        B5  ...           67.79   \n",
       "\n",
       "  last_credit_pull_d collections_12_mths_ex_med  policy_code application_type  \\\n",
       "0             May-16                        0.0            1       INDIVIDUAL   \n",
       "1             Sep-13                        0.0            1       INDIVIDUAL   \n",
       "2             May-16                        0.0            1       INDIVIDUAL   \n",
       "3             Apr-16                        0.0            1       INDIVIDUAL   \n",
       "4             May-16                        0.0            1       INDIVIDUAL   \n",
       "\n",
       "  acc_now_delinq chargeoff_within_12_mths delinq_amnt pub_rec_bankruptcies  \\\n",
       "0              0                      0.0           0                  0.0   \n",
       "1              0                      0.0           0                  0.0   \n",
       "2              0                      0.0           0                  0.0   \n",
       "3              0                      0.0           0                  0.0   \n",
       "4              0                      0.0           0                  0.0   \n",
       "\n",
       "  tax_liens  \n",
       "0       0.0  \n",
       "1       0.0  \n",
       "2       0.0  \n",
       "3       0.0  \n",
       "4       0.0  \n",
       "\n",
       "[5 rows x 53 columns]"
      ]
     },
     "execution_count": 9,
     "metadata": {},
     "output_type": "execute_result"
    }
   ],
   "source": [
    "cust_cleaned.head()"
   ]
  },
  {
   "cell_type": "code",
   "execution_count": 10,
   "id": "7acafc09-9bcd-4e6c-89d5-5fb1b9a77eb0",
   "metadata": {},
   "outputs": [
    {
     "data": {
      "text/plain": [
       "array(['Fully Paid', 'Charged Off', 'Current'], dtype=object)"
      ]
     },
     "execution_count": 10,
     "metadata": {},
     "output_type": "execute_result"
    }
   ],
   "source": [
    "# checking the unique values in the column\n",
    "cust_cleaned['loan_status'].unique()"
   ]
  },
  {
   "cell_type": "code",
   "execution_count": 11,
   "id": "f0a1b7ca-6cc2-4fc6-a718-39a75e029512",
   "metadata": {},
   "outputs": [
    {
     "data": {
      "text/plain": [
       "array(['Fully Paid', 'Charged Off'], dtype=object)"
      ]
     },
     "execution_count": 11,
     "metadata": {},
     "output_type": "execute_result"
    }
   ],
   "source": [
    "#removing the row with the loan status as current because we cannot determine anything with the loan which is in current status\n",
    "\n",
    "cust_cleaned=cust_cleaned[cust_cleaned['loan_status']!='Current']\n",
    "cust_cleaned['loan_status'].unique()"
   ]
  },
  {
   "cell_type": "code",
   "execution_count": 12,
   "id": "cca12df2-03af-4d07-8789-6a6fe7eb07ec",
   "metadata": {},
   "outputs": [
    {
     "name": "stdout",
     "output_type": "stream",
     "text": [
      "<class 'pandas.core.frame.DataFrame'>\n",
      "Index: 38577 entries, 0 to 39716\n",
      "Data columns (total 53 columns):\n",
      " #   Column                      Non-Null Count  Dtype  \n",
      "---  ------                      --------------  -----  \n",
      " 0   id                          38577 non-null  int64  \n",
      " 1   member_id                   38577 non-null  int64  \n",
      " 2   loan_amnt                   38577 non-null  int64  \n",
      " 3   funded_amnt                 38577 non-null  int64  \n",
      " 4   funded_amnt_inv             38577 non-null  float64\n",
      " 5   term                        38577 non-null  object \n",
      " 6   int_rate                    38577 non-null  object \n",
      " 7   installment                 38577 non-null  float64\n",
      " 8   grade                       38577 non-null  object \n",
      " 9   sub_grade                   38577 non-null  object \n",
      " 10  emp_title                   36191 non-null  object \n",
      " 11  emp_length                  37544 non-null  object \n",
      " 12  home_ownership              38577 non-null  object \n",
      " 13  annual_inc                  38577 non-null  float64\n",
      " 14  verification_status         38577 non-null  object \n",
      " 15  issue_d                     38577 non-null  object \n",
      " 16  loan_status                 38577 non-null  object \n",
      " 17  pymnt_plan                  38577 non-null  object \n",
      " 18  url                         38577 non-null  object \n",
      " 19  purpose                     38577 non-null  object \n",
      " 20  title                       38566 non-null  object \n",
      " 21  zip_code                    38577 non-null  object \n",
      " 22  addr_state                  38577 non-null  object \n",
      " 23  dti                         38577 non-null  float64\n",
      " 24  delinq_2yrs                 38577 non-null  int64  \n",
      " 25  earliest_cr_line            38577 non-null  object \n",
      " 26  inq_last_6mths              38577 non-null  int64  \n",
      " 27  open_acc                    38577 non-null  int64  \n",
      " 28  pub_rec                     38577 non-null  int64  \n",
      " 29  revol_bal                   38577 non-null  int64  \n",
      " 30  revol_util                  38527 non-null  object \n",
      " 31  total_acc                   38577 non-null  int64  \n",
      " 32  initial_list_status         38577 non-null  object \n",
      " 33  out_prncp                   38577 non-null  float64\n",
      " 34  out_prncp_inv               38577 non-null  float64\n",
      " 35  total_pymnt                 38577 non-null  float64\n",
      " 36  total_pymnt_inv             38577 non-null  float64\n",
      " 37  total_rec_prncp             38577 non-null  float64\n",
      " 38  total_rec_int               38577 non-null  float64\n",
      " 39  total_rec_late_fee          38577 non-null  float64\n",
      " 40  recoveries                  38577 non-null  float64\n",
      " 41  collection_recovery_fee     38577 non-null  float64\n",
      " 42  last_pymnt_d                38506 non-null  object \n",
      " 43  last_pymnt_amnt             38577 non-null  float64\n",
      " 44  last_credit_pull_d          38575 non-null  object \n",
      " 45  collections_12_mths_ex_med  38521 non-null  float64\n",
      " 46  policy_code                 38577 non-null  int64  \n",
      " 47  application_type            38577 non-null  object \n",
      " 48  acc_now_delinq              38577 non-null  int64  \n",
      " 49  chargeoff_within_12_mths    38521 non-null  float64\n",
      " 50  delinq_amnt                 38577 non-null  int64  \n",
      " 51  pub_rec_bankruptcies        37880 non-null  float64\n",
      " 52  tax_liens                   38538 non-null  float64\n",
      "dtypes: float64(18), int64(13), object(22)\n",
      "memory usage: 15.9+ MB\n"
     ]
    }
   ],
   "source": [
    "cust_cleaned.info()"
   ]
  },
  {
   "cell_type": "code",
   "execution_count": 13,
   "id": "d682527e-fc2e-4978-a316-3b5b04c1ea62",
   "metadata": {},
   "outputs": [
    {
     "data": {
      "text/plain": [
       "Index(['id', 'member_id', 'url'], dtype='object')"
      ]
     },
     "execution_count": 13,
     "metadata": {},
     "output_type": "execute_result"
    }
   ],
   "source": [
    "#Identify the columns with the unique values, and remove it as it will not be of any use in analysis \n",
    "unique_columns=cust_cleaned.columns[cust_cleaned.nunique(dropna=False)==len(cust_cleaned)]\n",
    "unique_columns"
   ]
  },
  {
   "cell_type": "code",
   "execution_count": 14,
   "id": "7e93b921-f4b9-4031-b6c8-8096688c022a",
   "metadata": {},
   "outputs": [],
   "source": [
    "cust_cleaned=cust_cleaned.drop(labels=['id','member_id','url'],axis=1)"
   ]
  },
  {
   "cell_type": "code",
   "execution_count": 15,
   "id": "60f5db59-14ed-45d4-9d69-ea4f86d2ef28",
   "metadata": {},
   "outputs": [
    {
     "name": "stdout",
     "output_type": "stream",
     "text": [
      "['860xx' '309xx' '606xx' '917xx' '852xx' '280xx' '900xx' '958xx' '774xx'\n",
      " '853xx' '913xx' '245xx' '951xx' '641xx' '921xx' '067xx' '890xx' '770xx'\n",
      " '335xx' '799xx' '605xx' '103xx' '150xx' '326xx' '564xx' '141xx' '080xx'\n",
      " '974xx' '934xx' '405xx' '946xx' '445xx' '850xx' '292xx' '088xx' '180xx'\n",
      " '029xx' '700xx' '010xx' '441xx' '104xx' '061xx' '616xx' '947xx' '914xx'\n",
      " '765xx' '980xx' '017xx' '972xx' '752xx' '787xx' '077xx' '540xx' '225xx'\n",
      " '440xx' '437xx' '559xx' '912xx' '325xx' '300xx' '923xx' '352xx' '013xx'\n",
      " '146xx' '074xx' '786xx' '937xx' '331xx' '115xx' '191xx' '114xx' '908xx'\n",
      " '902xx' '750xx' '950xx' '329xx' '226xx' '992xx' '614xx' '083xx' '100xx'\n",
      " '926xx' '931xx' '712xx' '060xx' '707xx' '342xx' '604xx' '895xx' '430xx'\n",
      " '919xx' '996xx' '891xx' '935xx' '801xx' '928xx' '233xx' '927xx' '970xx'\n",
      " '211xx' '303xx' '070xx' '194xx' '263xx' '403xx' '301xx' '553xx' '993xx'\n",
      " '312xx' '432xx' '602xx' '216xx' '151xx' '971xx' '305xx' '334xx' '050xx'\n",
      " '129xx' '925xx' '483xx' '760xx' '961xx' '200xx' '085xx' '981xx' '330xx'\n",
      " '601xx' '117xx' '063xx' '920xx' '543xx' '775xx' '570xx' '038xx' '221xx'\n",
      " '985xx' '113xx' '275xx' '236xx' '148xx' '028xx' '450xx' '532xx' '729xx'\n",
      " '321xx' '959xx' '941xx' '955xx' '217xx' '880xx' '660xx' '062xx' '193xx'\n",
      " '857xx' '306xx' '271xx' '142xx' '956xx' '983xx' '945xx' '672xx' '109xx'\n",
      " '112xx' '802xx' '187xx' '630xx' '435xx' '488xx' '287xx' '705xx' '318xx'\n",
      " '549xx' '212xx' '347xx' '274xx' '265xx' '785xx' '027xx' '089xx' '813xx'\n",
      " '260xx' '201xx' '349xx' '322xx' '075xx' '124xx' '940xx' '967xx' '111xx'\n",
      " '773xx' '997xx' '076xx' '538xx' '021xx' '304xx' '234xx' '308xx' '809xx'\n",
      " '071xx' '363xx' '296xx' '240xx' '011xx' '207xx' '140xx' '336xx' '619xx'\n",
      " '208xx' '618xx' '014xx' '644xx' '283xx' '276xx' '631xx' '243xx' '960xx'\n",
      " '181xx' '922xx' '224xx' '975xx' '105xx' '986xx' '218xx' '652xx' '782xx'\n",
      " '410xx' '480xx' '328xx' '719xx' '982xx' '065xx' '081xx' '954xx' '346xx'\n",
      " '442xx' '025xx' '122xx' '282xx' '120xx' '082xx' '766xx' '229xx' '840xx'\n",
      " '744xx' '933xx' '451xx' '907xx' '159xx' '333xx' '293xx' '701xx' '984xx'\n",
      " '811xx' '597xx' '957xx' '165xx' '720xx' '119xx' '359xx' '084xx' '969xx'\n",
      " '924xx' '531xx' '716xx' '337xx' '841xx' '323xx' '740xx' '179xx' '805xx'\n",
      " '285xx' '551xx' '658xx' '944xx' '232xx' '905xx' '600xx' '327xx' '711xx'\n",
      " '906xx' '444xx' '856xx' '777xx' '072xx' '554xx' '145xx' '537xx' '847xx'\n",
      " '295xx' '829xx' '320xx' '131xx' '939xx' '281xx' '064xx' '550xx' '078xx'\n",
      " '452xx' '778xx' '313xx' '851xx' '784xx' '804xx' '571xx' '210xx' '988xx'\n",
      " '400xx' '995xx' '023xx' '158xx' '657xx' '016xx' '019xx' '290xx' '366xx'\n",
      " '066xx' '991xx' '968xx' '069xx' '721xx' '439xx' '640xx' '546xx' '751xx'\n",
      " '741xx' '904xx' '156xx' '316xx' '299xx' '087xx' '949xx' '261xx' '222xx'\n",
      " '244xx' '617xx' '018xx' '286xx' '759xx' '952xx' '930xx' '911xx' '220xx'\n",
      " '731xx' '730xx' '262xx' '338xx' '160xx' '031xx' '054xx' '223xx' '272xx'\n",
      " '152xx' '882xx' '557xx' '797xx' '725xx' '130xx' '030xx' '206xx' '324xx'\n",
      " '170xx' '291xx' '161xx' '073xx' '647xx' '916xx' '665xx' '209xx' '915xx'\n",
      " '173xx' '761xx' '110xx' '086xx' '484xx' '844xx' '020xx' '354xx' '978xx'\n",
      " '757xx' '953xx' '577xx' '315xx' '664xx' '186xx' '182xx' '574xx' '800xx'\n",
      " '197xx' '137xx' '314xx' '755xx' '973xx' '603xx' '481xx' '780xx' '894xx'\n",
      " '341xx' '361xx' '178xx' '068xx' '565xx' '622xx' '611xx' '288xx' '560xx'\n",
      " '535xx' '499xx' '162xx' '756xx' '168xx' '827xx' '541xx' '615xx' '989xx'\n",
      " '037xx' '863xx' '339xx' '367xx' '273xx' '052xx' '623xx' '648xx' '918xx'\n",
      " '436xx' '898xx' '674xx' '496xx' '294xx' '762xx' '128xx' '903xx' '932xx'\n",
      " '195xx' '650xx' '246xx' '633xx' '666xx' '228xx' '015xx' '302xx' '573xx'\n",
      " '118xx' '998xx' '767xx' '490xx' '350xx' '591xx' '254xx' '566xx' '637xx'\n",
      " '032xx' '763xx' '494xx' '431xx' '402xx' '545xx' '190xx' '184xx' '239xx'\n",
      " '977xx' '297xx' '284xx' '144xx' '748xx' '310xx' '147xx' '153xx' '544xx'\n",
      " '024xx' '948xx' '576xx' '107xx' '846xx' '344xx' '351xx' '754xx' '910xx'\n",
      " '656xx' '357xx' '791xx' '493xx' '278xx' '175xx' '530xx' '171xx' '703xx'\n",
      " '620xx' '438xx' '572xx' '626xx' '307xx' '319xx' '116xx' '708xx' '816xx'\n",
      " '625xx' '133xx' '612xx' '238xx' '166xx' '231xx' '241xx' '125xx' '826xx'\n",
      " '793xx' '646xx' '188xx' '108xx' '653xx' '871xx' '796xx' '990xx' '219xx'\n",
      " '662xx' '724xx' '456xx' '214xx' '237xx' '783xx' '737xx' '121xx' '199xx'\n",
      " '548xx' '453xx' '704xx' '636xx' '368xx' '828xx' '598xx' '136xx' '610xx'\n",
      " '433xx' '722xx' '743xx' '810xx' '706xx' '235xx' '139xx' '613xx' '454xx'\n",
      " '317xx' '746xx' '486xx' '033xx' '279xx' '407xx' '448xx' '803xx' '794xx'\n",
      " '457xx' '189xx' '196xx' '539xx' '424xx' '492xx' '482xx' '667xx' '845xx'\n",
      " '608xx' '401xx' '362xx' '443xx' '627xx' '717xx' '607xx' '963xx' '198xx'\n",
      " '645xx' '713xx' '227xx' '883xx' '563xx' '893xx' '079xx' '360xx' '172xx'\n",
      " '422xx' '768xx' '034xx' '594xx' '215xx' '628xx' '356xx' '749xx' '806xx'\n",
      " '101xx' '814xx' '255xx' '745xx' '495xx' '132xx' '183xx' '864xx' '106xx'\n",
      " '663xx' '943xx' '057xx' '094xx' '177xx' '365xx' '897xx' '776xx' '843xx'\n",
      " '421xx' '253xx' '727xx' '528xx' '808xx' '735xx' '447xx' '358xx' '815xx'\n",
      " '250xx' '230xx' '790xx' '884xx' '242xx' '012xx' '534xx' '458xx' '404xx'\n",
      " '397xx' '870xx' '936xx' '434xx' '655xx' '277xx' '675xx' '053xx' '859xx'\n",
      " '126xx' '102xx' '256xx' '673xx' '446xx' '489xx' '258xx' '423xx' '788xx'\n",
      " '270xx' '127xx' '176xx' '380xx' '058xx' '635xx' '498xx' '820xx' '599xx'\n",
      " '822xx' '830xx' '638xx' '723xx' '449xx' '420xx' '157xx' '726xx' '185xx'\n",
      " '527xx' '298xx' '769xx' '257xx' '881xx' '575xx' '624xx' '134xx' '877xx'\n",
      " '781xx' '976xx' '718xx' '670xx' '138xx' '026xx' '678xx' '398xx' '497xx'\n",
      " '149xx' '875xx' '838xx' '651xx' '364xx' '203xx' '795xx' '427xx' '629xx'\n",
      " '355xx' '174xx' '547xx' '567xx' '558xx' '035xx' '999xx' '634xx' '455xx'\n",
      " '143xx' '562xx' '779xx' '561xx' '789xx' '812xx' '268xx' '051xx' '865xx'\n",
      " '406xx' '661xx' '758xx' '676xx' '491xx' '734xx' '728xx' '135xx' '411xx'\n",
      " '267xx' '596xx' '595xx' '259xx' '163xx' '264xx' '409xx' '376xx' '471xx'\n",
      " '154xx' '375xx' '747xx' '123xx' '714xx' '590xx' '247xx' '639xx' '416xx'\n",
      " '412xx' '425xx' '022xx' '855xx' '874xx' '369xx' '825xx' '266xx' '096xx'\n",
      " '251xx' '593xx' '487xx' '609xx' '169xx' '413xx' '155xx' '764xx' '710xx'\n",
      " '408xx' '668xx' '056xx' '164xx' '671xx' '669xx' '167xx' '542xx' '679xx'\n",
      " '462xx' '792xx' '824xx' '249xx' '798xx' '370xx' '485xx' '654xx' '289xx'\n",
      " '807xx' '252xx' '556xx' '353xx' '677xx' '090xx' '371xx' '831xx' '736xx'\n",
      " '007xx' '332xx' '468xx' '461xx' '093xx' '248xx' '463xx' '391xx' '381xx'\n",
      " '415xx' '592xx' '378xx' '414xx' '396xx' '836xx' '044xx' '392xx' '772xx'\n",
      " '374xx' '823xx' '395xx' '394xx' '965xx' '390xx' '388xx' '386xx' '040xx'\n",
      " '385xx' '379xx' '681xx' '837xx' '373xx' '753xx' '834xx' '383xx' '384xx'\n",
      " '372xx' '833xx' '522xx' '523xx' '474xx' '465xx' '689xx' '473xx' '041xx'\n",
      " '685xx' '479xx' '469xx']\n",
      "['n']\n",
      "['INDIVIDUAL']\n",
      "[1]\n",
      "[0]\n",
      "[ 0. nan]\n",
      "['f']\n",
      "[ 0. nan]\n",
      "[0]\n",
      "[ 0. nan]\n"
     ]
    }
   ],
   "source": [
    "#Removing the columns which is not needed for the analysis \n",
    "#Zip code only first 3 characters are visible \n",
    "#pymnt_plan column as it has sinle value n\n",
    "#application_type this column has only one value as INDIVIDUAL \n",
    "#policy_code column has single constant value 1\n",
    "#delinq_amnt column has single constant value 0\n",
    "#tax_liens column has single constant value 0.0 and nan\n",
    "#initial_list_status column has single constant value f\n",
    "#collections_12_mths_ex_med column has single constant value 0.0 and nan\n",
    "#acc_now_delinq' column has single constant value 0\n",
    "#chargeoff_within_12_mths column has  a single constant value 0.0 and nan\n",
    "\n",
    "\n",
    "print(cust_cleaned['zip_code'].unique())\n",
    "print(cust_cleaned['pymnt_plan'].unique())\n",
    "print(cust_cleaned['application_type'].unique())\n",
    "print(cust_cleaned['policy_code'].unique())\n",
    "print(cust_cleaned['delinq_amnt'].unique())\n",
    "print(cust_cleaned['tax_liens'].unique())\n",
    "print(cust_cleaned['initial_list_status'].unique())\n",
    "print(cust_cleaned['collections_12_mths_ex_med'].unique())\n",
    "print(cust_cleaned['acc_now_delinq'].unique())\n",
    "print(cust_cleaned['chargeoff_within_12_mths'].unique())\n"
   ]
  },
  {
   "cell_type": "code",
   "execution_count": 16,
   "id": "233dcf3d-c4e8-4ef8-a7f4-0bf163e7969d",
   "metadata": {},
   "outputs": [
    {
     "name": "stdout",
     "output_type": "stream",
     "text": [
      "<class 'pandas.core.frame.DataFrame'>\n",
      "Index: 38577 entries, 0 to 39716\n",
      "Data columns (total 41 columns):\n",
      " #   Column                   Non-Null Count  Dtype  \n",
      "---  ------                   --------------  -----  \n",
      " 0   loan_amnt                38577 non-null  int64  \n",
      " 1   funded_amnt              38577 non-null  int64  \n",
      " 2   funded_amnt_inv          38577 non-null  float64\n",
      " 3   term                     38577 non-null  object \n",
      " 4   int_rate                 38577 non-null  object \n",
      " 5   installment              38577 non-null  float64\n",
      " 6   grade                    38577 non-null  object \n",
      " 7   sub_grade                38577 non-null  object \n",
      " 8   emp_title                36191 non-null  object \n",
      " 9   emp_length               37544 non-null  object \n",
      " 10  home_ownership           38577 non-null  object \n",
      " 11  annual_inc               38577 non-null  float64\n",
      " 12  verification_status      38577 non-null  object \n",
      " 13  issue_d                  38577 non-null  object \n",
      " 14  loan_status              38577 non-null  object \n",
      " 15  purpose                  38577 non-null  object \n",
      " 16  title                    38566 non-null  object \n",
      " 17  zip_code                 38577 non-null  object \n",
      " 18  addr_state               38577 non-null  object \n",
      " 19  dti                      38577 non-null  float64\n",
      " 20  delinq_2yrs              38577 non-null  int64  \n",
      " 21  earliest_cr_line         38577 non-null  object \n",
      " 22  inq_last_6mths           38577 non-null  int64  \n",
      " 23  open_acc                 38577 non-null  int64  \n",
      " 24  pub_rec                  38577 non-null  int64  \n",
      " 25  revol_bal                38577 non-null  int64  \n",
      " 26  revol_util               38527 non-null  object \n",
      " 27  total_acc                38577 non-null  int64  \n",
      " 28  out_prncp                38577 non-null  float64\n",
      " 29  out_prncp_inv            38577 non-null  float64\n",
      " 30  total_pymnt              38577 non-null  float64\n",
      " 31  total_pymnt_inv          38577 non-null  float64\n",
      " 32  total_rec_prncp          38577 non-null  float64\n",
      " 33  total_rec_int            38577 non-null  float64\n",
      " 34  total_rec_late_fee       38577 non-null  float64\n",
      " 35  recoveries               38577 non-null  float64\n",
      " 36  collection_recovery_fee  38577 non-null  float64\n",
      " 37  last_pymnt_d             38506 non-null  object \n",
      " 38  last_pymnt_amnt          38577 non-null  float64\n",
      " 39  last_credit_pull_d       38575 non-null  object \n",
      " 40  pub_rec_bankruptcies     37880 non-null  float64\n",
      "dtypes: float64(15), int64(8), object(18)\n",
      "memory usage: 12.4+ MB\n"
     ]
    }
   ],
   "source": [
    "cust_cleaned=cust_cleaned.drop(labels=['pymnt_plan','application_type','policy_code','delinq_amnt','tax_liens','initial_list_status','collections_12_mths_ex_med','acc_now_delinq','chargeoff_within_12_mths'],axis=1)\n",
    "cust_cleaned.info();"
   ]
  },
  {
   "cell_type": "code",
   "execution_count": 17,
   "id": "eb958fe1-ed37-4c97-b0d4-64287c59c3f0",
   "metadata": {},
   "outputs": [
    {
     "name": "stdout",
     "output_type": "stream",
     "text": [
      "recoveries\n",
      "0.00       89.066024\n",
      "11.29       0.010369\n",
      "10.40       0.010369\n",
      "10.66       0.007777\n",
      "44.92       0.007777\n",
      "             ...    \n",
      "764.69      0.002592\n",
      "653.08      0.002592\n",
      "1080.96     0.002592\n",
      "878.19      0.002592\n",
      "21.29       0.002592\n",
      "Name: proportion, Length: 4040, dtype: float64\n",
      "collection_recovery_fee\n",
      "0.0000      90.196231\n",
      "2.0000       0.031107\n",
      "1.2000       0.025922\n",
      "3.7100       0.023330\n",
      "1.8800       0.020738\n",
      "              ...    \n",
      "3.7900       0.002592\n",
      "773.4900     0.002592\n",
      "272.8250     0.002592\n",
      "1.7697       0.002592\n",
      "0.2300       0.002592\n",
      "Name: proportion, Length: 2616, dtype: float64\n",
      "total_rec_late_fee\n",
      "0.000000     94.828525\n",
      "15.000000     0.635093\n",
      "15.000000     0.150349\n",
      "30.000000     0.134795\n",
      "15.000000     0.121834\n",
      "               ...    \n",
      "14.961402     0.002592\n",
      "58.363879     0.002592\n",
      "14.987723     0.002592\n",
      "40.237503     0.002592\n",
      "19.890000     0.002592\n",
      "Name: proportion, Length: 1320, dtype: float64\n"
     ]
    }
   ],
   "source": [
    "#recoveries column has 90% of the values as 0\n",
    "#collection_recovery_fee has most of the values as 0\n",
    "#total_rec_late_fee has most of the values as 0\n",
    "print(cust_cleaned['recoveries'].value_counts(normalize=True)*100)\n",
    "print(cust_cleaned['collection_recovery_fee'].value_counts(normalize=True)*100)\n",
    "print(cust_cleaned['total_rec_late_fee'].value_counts(normalize=True)*100)"
   ]
  },
  {
   "cell_type": "code",
   "execution_count": 18,
   "id": "1c1374ce-aa1b-4f7a-a037-3409dbe38f8c",
   "metadata": {},
   "outputs": [
    {
     "name": "stdout",
     "output_type": "stream",
     "text": [
      "<class 'pandas.core.frame.DataFrame'>\n",
      "Index: 38577 entries, 0 to 39716\n",
      "Data columns (total 37 columns):\n",
      " #   Column                Non-Null Count  Dtype  \n",
      "---  ------                --------------  -----  \n",
      " 0   loan_amnt             38577 non-null  int64  \n",
      " 1   funded_amnt           38577 non-null  int64  \n",
      " 2   funded_amnt_inv       38577 non-null  float64\n",
      " 3   term                  38577 non-null  object \n",
      " 4   int_rate              38577 non-null  object \n",
      " 5   installment           38577 non-null  float64\n",
      " 6   grade                 38577 non-null  object \n",
      " 7   sub_grade             38577 non-null  object \n",
      " 8   emp_length            37544 non-null  object \n",
      " 9   home_ownership        38577 non-null  object \n",
      " 10  annual_inc            38577 non-null  float64\n",
      " 11  verification_status   38577 non-null  object \n",
      " 12  issue_d               38577 non-null  object \n",
      " 13  loan_status           38577 non-null  object \n",
      " 14  purpose               38577 non-null  object \n",
      " 15  title                 38566 non-null  object \n",
      " 16  zip_code              38577 non-null  object \n",
      " 17  addr_state            38577 non-null  object \n",
      " 18  dti                   38577 non-null  float64\n",
      " 19  delinq_2yrs           38577 non-null  int64  \n",
      " 20  earliest_cr_line      38577 non-null  object \n",
      " 21  inq_last_6mths        38577 non-null  int64  \n",
      " 22  open_acc              38577 non-null  int64  \n",
      " 23  pub_rec               38577 non-null  int64  \n",
      " 24  revol_bal             38577 non-null  int64  \n",
      " 25  revol_util            38527 non-null  object \n",
      " 26  total_acc             38577 non-null  int64  \n",
      " 27  out_prncp             38577 non-null  float64\n",
      " 28  out_prncp_inv         38577 non-null  float64\n",
      " 29  total_pymnt           38577 non-null  float64\n",
      " 30  total_pymnt_inv       38577 non-null  float64\n",
      " 31  total_rec_prncp       38577 non-null  float64\n",
      " 32  total_rec_int         38577 non-null  float64\n",
      " 33  last_pymnt_d          38506 non-null  object \n",
      " 34  last_pymnt_amnt       38577 non-null  float64\n",
      " 35  last_credit_pull_d    38575 non-null  object \n",
      " 36  pub_rec_bankruptcies  37880 non-null  float64\n",
      "dtypes: float64(12), int64(8), object(17)\n",
      "memory usage: 11.2+ MB\n"
     ]
    }
   ],
   "source": [
    "cust_cleaned=cust_cleaned.drop(labels=['recoveries','collection_recovery_fee','total_rec_late_fee','emp_title'],axis=1)\n",
    "cust_cleaned.info()"
   ]
  },
  {
   "cell_type": "code",
   "execution_count": 19,
   "id": "8c9f08f6-797f-457f-8f7d-a3b4c5f55503",
   "metadata": {},
   "outputs": [
    {
     "data": {
      "text/plain": [
       "loan_amnt               0.000000\n",
       "funded_amnt             0.000000\n",
       "funded_amnt_inv         0.000000\n",
       "term                    0.000000\n",
       "int_rate                0.000000\n",
       "installment             0.000000\n",
       "grade                   0.000000\n",
       "sub_grade               0.000000\n",
       "emp_length              2.677761\n",
       "home_ownership          0.000000\n",
       "annual_inc              0.000000\n",
       "verification_status     0.000000\n",
       "issue_d                 0.000000\n",
       "loan_status             0.000000\n",
       "purpose                 0.000000\n",
       "title                   0.028514\n",
       "zip_code                0.000000\n",
       "addr_state              0.000000\n",
       "dti                     0.000000\n",
       "delinq_2yrs             0.000000\n",
       "earliest_cr_line        0.000000\n",
       "inq_last_6mths          0.000000\n",
       "open_acc                0.000000\n",
       "pub_rec                 0.000000\n",
       "revol_bal               0.000000\n",
       "revol_util              0.129611\n",
       "total_acc               0.000000\n",
       "out_prncp               0.000000\n",
       "out_prncp_inv           0.000000\n",
       "total_pymnt             0.000000\n",
       "total_pymnt_inv         0.000000\n",
       "total_rec_prncp         0.000000\n",
       "total_rec_int           0.000000\n",
       "last_pymnt_d            0.184047\n",
       "last_pymnt_amnt         0.000000\n",
       "last_credit_pull_d      0.005184\n",
       "pub_rec_bankruptcies    1.806776\n",
       "dtype: float64"
      ]
     },
     "execution_count": 19,
     "metadata": {},
     "output_type": "execute_result"
    }
   ],
   "source": [
    "#checking the column with null values \n",
    "cust_cleaned.isna().mean()*100"
   ]
  },
  {
   "cell_type": "code",
   "execution_count": 20,
   "id": "5aaa4804-bfee-4ef2-b40a-230442ee7770",
   "metadata": {},
   "outputs": [
    {
     "data": {
      "text/plain": [
       "purpose\n",
       "debt_consolidation    46.802499\n",
       "credit_card           13.031081\n",
       "other                 10.018923\n",
       "home_improvement       7.452627\n",
       "major_purchase         5.573269\n",
       "small_business         4.546751\n",
       "car                    3.885735\n",
       "wedding                2.400394\n",
       "medical                1.765301\n",
       "moving                 1.493118\n",
       "vacation               0.972082\n",
       "house                  0.951344\n",
       "educational            0.842471\n",
       "renewable_energy       0.264406\n",
       "Name: count, dtype: float64"
      ]
     },
     "execution_count": 20,
     "metadata": {},
     "output_type": "execute_result"
    }
   ],
   "source": [
    "#checking percentage of the purpose for which the loan is availed \n",
    "cust_cleaned.purpose.value_counts()*100/len(cust_cleaned)"
   ]
  },
  {
   "cell_type": "markdown",
   "id": "ca6de085-6d4b-44b6-971b-06ef6e199e27",
   "metadata": {},
   "source": [
    "**Removing the months from the term column to make it a numerical column**"
   ]
  },
  {
   "cell_type": "code",
   "execution_count": 22,
   "id": "1e21b7a1-02ae-491a-bdda-adf8e7a84a28",
   "metadata": {},
   "outputs": [],
   "source": [
    "#removing months from the term column\n",
    "\n",
    "cust_cleaned[\"term\"]=cust_cleaned[\"term\"].apply(lambda x : x.replace('months',''))\n",
    "cust_cleaned[\"term\"]=cust_cleaned[\"term\"].astype(int)"
   ]
  },
  {
   "cell_type": "code",
   "execution_count": 23,
   "id": "7f6d7dc7-3e19-4e35-a418-864ed1b4e11f",
   "metadata": {},
   "outputs": [],
   "source": [
    "# converting int_rate , removing the % symbol\n",
    "\n",
    "cust_cleaned['int_rate']=cust_cleaned['int_rate'].apply(lambda x :x.replace('%',''))\n"
   ]
  },
  {
   "cell_type": "code",
   "execution_count": 24,
   "id": "852223d0-6668-4c77-bcfb-287c8443d4ae",
   "metadata": {},
   "outputs": [],
   "source": [
    "cust_cleaned['int_rate']=cust_cleaned['int_rate'].astype(float)\n",
    "\n"
   ]
  },
  {
   "cell_type": "code",
   "execution_count": 25,
   "id": "d23a0a84-2ca7-422b-af2f-cd544439adc2",
   "metadata": {},
   "outputs": [
    {
     "name": "stdout",
     "output_type": "stream",
     "text": [
      "<class 'pandas.core.frame.DataFrame'>\n",
      "Index: 38577 entries, 0 to 39716\n",
      "Data columns (total 37 columns):\n",
      " #   Column                Non-Null Count  Dtype  \n",
      "---  ------                --------------  -----  \n",
      " 0   loan_amnt             38577 non-null  int64  \n",
      " 1   funded_amnt           38577 non-null  int64  \n",
      " 2   funded_amnt_inv       38577 non-null  float64\n",
      " 3   term                  38577 non-null  int32  \n",
      " 4   int_rate              38577 non-null  float64\n",
      " 5   installment           38577 non-null  float64\n",
      " 6   grade                 38577 non-null  object \n",
      " 7   sub_grade             38577 non-null  object \n",
      " 8   emp_length            37544 non-null  object \n",
      " 9   home_ownership        38577 non-null  object \n",
      " 10  annual_inc            38577 non-null  float64\n",
      " 11  verification_status   38577 non-null  object \n",
      " 12  issue_d               38577 non-null  object \n",
      " 13  loan_status           38577 non-null  object \n",
      " 14  purpose               38577 non-null  object \n",
      " 15  title                 38566 non-null  object \n",
      " 16  zip_code              38577 non-null  object \n",
      " 17  addr_state            38577 non-null  object \n",
      " 18  dti                   38577 non-null  float64\n",
      " 19  delinq_2yrs           38577 non-null  int64  \n",
      " 20  earliest_cr_line      38577 non-null  object \n",
      " 21  inq_last_6mths        38577 non-null  int64  \n",
      " 22  open_acc              38577 non-null  int64  \n",
      " 23  pub_rec               38577 non-null  int64  \n",
      " 24  revol_bal             38577 non-null  int64  \n",
      " 25  revol_util            38527 non-null  object \n",
      " 26  total_acc             38577 non-null  int64  \n",
      " 27  out_prncp             38577 non-null  float64\n",
      " 28  out_prncp_inv         38577 non-null  float64\n",
      " 29  total_pymnt           38577 non-null  float64\n",
      " 30  total_pymnt_inv       38577 non-null  float64\n",
      " 31  total_rec_prncp       38577 non-null  float64\n",
      " 32  total_rec_int         38577 non-null  float64\n",
      " 33  last_pymnt_d          38506 non-null  object \n",
      " 34  last_pymnt_amnt       38577 non-null  float64\n",
      " 35  last_credit_pull_d    38575 non-null  object \n",
      " 36  pub_rec_bankruptcies  37880 non-null  float64\n",
      "dtypes: float64(13), int32(1), int64(8), object(15)\n",
      "memory usage: 11.0+ MB\n"
     ]
    }
   ],
   "source": [
    "cust_cleaned.info()"
   ]
  },
  {
   "cell_type": "code",
   "execution_count": 26,
   "id": "c439a7a1-7715-4a98-b488-7c6a0656b171",
   "metadata": {},
   "outputs": [
    {
     "data": {
      "text/plain": [
       "loan_amnt                  0\n",
       "funded_amnt                0\n",
       "funded_amnt_inv            0\n",
       "term                       0\n",
       "int_rate                   0\n",
       "installment                0\n",
       "grade                      0\n",
       "sub_grade                  0\n",
       "emp_length              1033\n",
       "home_ownership             0\n",
       "annual_inc                 0\n",
       "verification_status        0\n",
       "issue_d                    0\n",
       "loan_status                0\n",
       "purpose                    0\n",
       "title                     11\n",
       "zip_code                   0\n",
       "addr_state                 0\n",
       "dti                        0\n",
       "delinq_2yrs                0\n",
       "earliest_cr_line           0\n",
       "inq_last_6mths             0\n",
       "open_acc                   0\n",
       "pub_rec                    0\n",
       "revol_bal                  0\n",
       "revol_util                50\n",
       "total_acc                  0\n",
       "out_prncp                  0\n",
       "out_prncp_inv              0\n",
       "total_pymnt                0\n",
       "total_pymnt_inv            0\n",
       "total_rec_prncp            0\n",
       "total_rec_int              0\n",
       "last_pymnt_d              71\n",
       "last_pymnt_amnt            0\n",
       "last_credit_pull_d         2\n",
       "pub_rec_bankruptcies     697\n",
       "dtype: int64"
      ]
     },
     "execution_count": 26,
     "metadata": {},
     "output_type": "execute_result"
    }
   ],
   "source": [
    "cust_cleaned.isnull().sum()"
   ]
  },
  {
   "cell_type": "markdown",
   "id": "695c5588-cb9f-4291-af19-ea48da081315",
   "metadata": {},
   "source": [
    "**The title column has the complete random values, so this column can be dropped and the purpose column can be considered for analysis**"
   ]
  },
  {
   "cell_type": "code",
   "execution_count": 28,
   "id": "ce0313b6-12ce-4f77-aae5-5a0698a4d689",
   "metadata": {
    "scrolled": true
   },
   "outputs": [],
   "source": [
    "#deleting the title column having random values, purpose column can be considered \n",
    "cust_cleaned=cust_cleaned.drop(['title'],axis=1)\n"
   ]
  },
  {
   "cell_type": "code",
   "execution_count": 29,
   "id": "738da849-bee4-4630-850e-67b869e0ad77",
   "metadata": {},
   "outputs": [
    {
     "data": {
      "text/html": [
       "<div>\n",
       "<style scoped>\n",
       "    .dataframe tbody tr th:only-of-type {\n",
       "        vertical-align: middle;\n",
       "    }\n",
       "\n",
       "    .dataframe tbody tr th {\n",
       "        vertical-align: top;\n",
       "    }\n",
       "\n",
       "    .dataframe thead th {\n",
       "        text-align: right;\n",
       "    }\n",
       "</style>\n",
       "<table border=\"1\" class=\"dataframe\">\n",
       "  <thead>\n",
       "    <tr style=\"text-align: right;\">\n",
       "      <th></th>\n",
       "      <th>loan_amnt</th>\n",
       "      <th>funded_amnt</th>\n",
       "      <th>funded_amnt_inv</th>\n",
       "      <th>term</th>\n",
       "      <th>int_rate</th>\n",
       "      <th>installment</th>\n",
       "      <th>grade</th>\n",
       "      <th>sub_grade</th>\n",
       "      <th>emp_length</th>\n",
       "      <th>home_ownership</th>\n",
       "      <th>...</th>\n",
       "      <th>out_prncp_inv</th>\n",
       "      <th>total_pymnt</th>\n",
       "      <th>total_pymnt_inv</th>\n",
       "      <th>total_rec_prncp</th>\n",
       "      <th>total_rec_int</th>\n",
       "      <th>last_pymnt_d</th>\n",
       "      <th>last_pymnt_amnt</th>\n",
       "      <th>last_credit_pull_d</th>\n",
       "      <th>pub_rec_bankruptcies</th>\n",
       "      <th>emp_length_years</th>\n",
       "    </tr>\n",
       "  </thead>\n",
       "  <tbody>\n",
       "    <tr>\n",
       "      <th>0</th>\n",
       "      <td>5000</td>\n",
       "      <td>5000</td>\n",
       "      <td>4975.0</td>\n",
       "      <td>36</td>\n",
       "      <td>10.65</td>\n",
       "      <td>162.87</td>\n",
       "      <td>B</td>\n",
       "      <td>B2</td>\n",
       "      <td>10+ years</td>\n",
       "      <td>RENT</td>\n",
       "      <td>...</td>\n",
       "      <td>0.0</td>\n",
       "      <td>5863.155187</td>\n",
       "      <td>5833.84</td>\n",
       "      <td>5000.00</td>\n",
       "      <td>863.16</td>\n",
       "      <td>Jan-15</td>\n",
       "      <td>171.62</td>\n",
       "      <td>May-16</td>\n",
       "      <td>0.0</td>\n",
       "      <td>10</td>\n",
       "    </tr>\n",
       "    <tr>\n",
       "      <th>1</th>\n",
       "      <td>2500</td>\n",
       "      <td>2500</td>\n",
       "      <td>2500.0</td>\n",
       "      <td>60</td>\n",
       "      <td>15.27</td>\n",
       "      <td>59.83</td>\n",
       "      <td>C</td>\n",
       "      <td>C4</td>\n",
       "      <td>&lt; 1 year</td>\n",
       "      <td>RENT</td>\n",
       "      <td>...</td>\n",
       "      <td>0.0</td>\n",
       "      <td>1008.710000</td>\n",
       "      <td>1008.71</td>\n",
       "      <td>456.46</td>\n",
       "      <td>435.17</td>\n",
       "      <td>Apr-13</td>\n",
       "      <td>119.66</td>\n",
       "      <td>Sep-13</td>\n",
       "      <td>0.0</td>\n",
       "      <td>0.9</td>\n",
       "    </tr>\n",
       "    <tr>\n",
       "      <th>2</th>\n",
       "      <td>2400</td>\n",
       "      <td>2400</td>\n",
       "      <td>2400.0</td>\n",
       "      <td>36</td>\n",
       "      <td>15.96</td>\n",
       "      <td>84.33</td>\n",
       "      <td>C</td>\n",
       "      <td>C5</td>\n",
       "      <td>10+ years</td>\n",
       "      <td>RENT</td>\n",
       "      <td>...</td>\n",
       "      <td>0.0</td>\n",
       "      <td>3005.666844</td>\n",
       "      <td>3005.67</td>\n",
       "      <td>2400.00</td>\n",
       "      <td>605.67</td>\n",
       "      <td>Jun-14</td>\n",
       "      <td>649.91</td>\n",
       "      <td>May-16</td>\n",
       "      <td>0.0</td>\n",
       "      <td>10</td>\n",
       "    </tr>\n",
       "    <tr>\n",
       "      <th>3</th>\n",
       "      <td>10000</td>\n",
       "      <td>10000</td>\n",
       "      <td>10000.0</td>\n",
       "      <td>36</td>\n",
       "      <td>13.49</td>\n",
       "      <td>339.31</td>\n",
       "      <td>C</td>\n",
       "      <td>C1</td>\n",
       "      <td>10+ years</td>\n",
       "      <td>RENT</td>\n",
       "      <td>...</td>\n",
       "      <td>0.0</td>\n",
       "      <td>12231.890000</td>\n",
       "      <td>12231.89</td>\n",
       "      <td>10000.00</td>\n",
       "      <td>2214.92</td>\n",
       "      <td>Jan-15</td>\n",
       "      <td>357.48</td>\n",
       "      <td>Apr-16</td>\n",
       "      <td>0.0</td>\n",
       "      <td>10</td>\n",
       "    </tr>\n",
       "    <tr>\n",
       "      <th>5</th>\n",
       "      <td>5000</td>\n",
       "      <td>5000</td>\n",
       "      <td>5000.0</td>\n",
       "      <td>36</td>\n",
       "      <td>7.90</td>\n",
       "      <td>156.46</td>\n",
       "      <td>A</td>\n",
       "      <td>A4</td>\n",
       "      <td>3 years</td>\n",
       "      <td>RENT</td>\n",
       "      <td>...</td>\n",
       "      <td>0.0</td>\n",
       "      <td>5632.210000</td>\n",
       "      <td>5632.21</td>\n",
       "      <td>5000.00</td>\n",
       "      <td>632.21</td>\n",
       "      <td>Jan-15</td>\n",
       "      <td>161.03</td>\n",
       "      <td>Jan-16</td>\n",
       "      <td>0.0</td>\n",
       "      <td>3</td>\n",
       "    </tr>\n",
       "    <tr>\n",
       "      <th>...</th>\n",
       "      <td>...</td>\n",
       "      <td>...</td>\n",
       "      <td>...</td>\n",
       "      <td>...</td>\n",
       "      <td>...</td>\n",
       "      <td>...</td>\n",
       "      <td>...</td>\n",
       "      <td>...</td>\n",
       "      <td>...</td>\n",
       "      <td>...</td>\n",
       "      <td>...</td>\n",
       "      <td>...</td>\n",
       "      <td>...</td>\n",
       "      <td>...</td>\n",
       "      <td>...</td>\n",
       "      <td>...</td>\n",
       "      <td>...</td>\n",
       "      <td>...</td>\n",
       "      <td>...</td>\n",
       "      <td>...</td>\n",
       "      <td>...</td>\n",
       "    </tr>\n",
       "    <tr>\n",
       "      <th>39712</th>\n",
       "      <td>2500</td>\n",
       "      <td>2500</td>\n",
       "      <td>1075.0</td>\n",
       "      <td>36</td>\n",
       "      <td>8.07</td>\n",
       "      <td>78.42</td>\n",
       "      <td>A</td>\n",
       "      <td>A4</td>\n",
       "      <td>4 years</td>\n",
       "      <td>MORTGAGE</td>\n",
       "      <td>...</td>\n",
       "      <td>0.0</td>\n",
       "      <td>2822.969293</td>\n",
       "      <td>1213.88</td>\n",
       "      <td>2500.00</td>\n",
       "      <td>322.97</td>\n",
       "      <td>Jul-10</td>\n",
       "      <td>80.90</td>\n",
       "      <td>Jun-10</td>\n",
       "      <td>NaN</td>\n",
       "      <td>4</td>\n",
       "    </tr>\n",
       "    <tr>\n",
       "      <th>39713</th>\n",
       "      <td>8500</td>\n",
       "      <td>8500</td>\n",
       "      <td>875.0</td>\n",
       "      <td>36</td>\n",
       "      <td>10.28</td>\n",
       "      <td>275.38</td>\n",
       "      <td>C</td>\n",
       "      <td>C1</td>\n",
       "      <td>3 years</td>\n",
       "      <td>RENT</td>\n",
       "      <td>...</td>\n",
       "      <td>0.0</td>\n",
       "      <td>9913.491822</td>\n",
       "      <td>1020.51</td>\n",
       "      <td>8500.00</td>\n",
       "      <td>1413.49</td>\n",
       "      <td>Jul-10</td>\n",
       "      <td>281.94</td>\n",
       "      <td>Jul-10</td>\n",
       "      <td>NaN</td>\n",
       "      <td>3</td>\n",
       "    </tr>\n",
       "    <tr>\n",
       "      <th>39714</th>\n",
       "      <td>5000</td>\n",
       "      <td>5000</td>\n",
       "      <td>1325.0</td>\n",
       "      <td>36</td>\n",
       "      <td>8.07</td>\n",
       "      <td>156.84</td>\n",
       "      <td>A</td>\n",
       "      <td>A4</td>\n",
       "      <td>&lt; 1 year</td>\n",
       "      <td>MORTGAGE</td>\n",
       "      <td>...</td>\n",
       "      <td>0.0</td>\n",
       "      <td>5272.161128</td>\n",
       "      <td>1397.12</td>\n",
       "      <td>5000.00</td>\n",
       "      <td>272.16</td>\n",
       "      <td>Apr-08</td>\n",
       "      <td>0.00</td>\n",
       "      <td>Jun-07</td>\n",
       "      <td>NaN</td>\n",
       "      <td>0.9</td>\n",
       "    </tr>\n",
       "    <tr>\n",
       "      <th>39715</th>\n",
       "      <td>5000</td>\n",
       "      <td>5000</td>\n",
       "      <td>650.0</td>\n",
       "      <td>36</td>\n",
       "      <td>7.43</td>\n",
       "      <td>155.38</td>\n",
       "      <td>A</td>\n",
       "      <td>A2</td>\n",
       "      <td>&lt; 1 year</td>\n",
       "      <td>MORTGAGE</td>\n",
       "      <td>...</td>\n",
       "      <td>0.0</td>\n",
       "      <td>5174.198551</td>\n",
       "      <td>672.66</td>\n",
       "      <td>5000.00</td>\n",
       "      <td>174.20</td>\n",
       "      <td>Jan-08</td>\n",
       "      <td>0.00</td>\n",
       "      <td>Jun-07</td>\n",
       "      <td>NaN</td>\n",
       "      <td>0.9</td>\n",
       "    </tr>\n",
       "    <tr>\n",
       "      <th>39716</th>\n",
       "      <td>7500</td>\n",
       "      <td>7500</td>\n",
       "      <td>800.0</td>\n",
       "      <td>36</td>\n",
       "      <td>13.75</td>\n",
       "      <td>255.43</td>\n",
       "      <td>E</td>\n",
       "      <td>E2</td>\n",
       "      <td>&lt; 1 year</td>\n",
       "      <td>OWN</td>\n",
       "      <td>...</td>\n",
       "      <td>0.0</td>\n",
       "      <td>9195.263334</td>\n",
       "      <td>980.83</td>\n",
       "      <td>7500.00</td>\n",
       "      <td>1695.26</td>\n",
       "      <td>Jun-10</td>\n",
       "      <td>256.59</td>\n",
       "      <td>Jun-10</td>\n",
       "      <td>NaN</td>\n",
       "      <td>0.9</td>\n",
       "    </tr>\n",
       "  </tbody>\n",
       "</table>\n",
       "<p>38577 rows × 37 columns</p>\n",
       "</div>"
      ],
      "text/plain": [
       "       loan_amnt  funded_amnt  funded_amnt_inv  term  int_rate  installment  \\\n",
       "0           5000         5000           4975.0    36     10.65       162.87   \n",
       "1           2500         2500           2500.0    60     15.27        59.83   \n",
       "2           2400         2400           2400.0    36     15.96        84.33   \n",
       "3          10000        10000          10000.0    36     13.49       339.31   \n",
       "5           5000         5000           5000.0    36      7.90       156.46   \n",
       "...          ...          ...              ...   ...       ...          ...   \n",
       "39712       2500         2500           1075.0    36      8.07        78.42   \n",
       "39713       8500         8500            875.0    36     10.28       275.38   \n",
       "39714       5000         5000           1325.0    36      8.07       156.84   \n",
       "39715       5000         5000            650.0    36      7.43       155.38   \n",
       "39716       7500         7500            800.0    36     13.75       255.43   \n",
       "\n",
       "      grade sub_grade emp_length home_ownership  ...  out_prncp_inv  \\\n",
       "0         B        B2  10+ years           RENT  ...            0.0   \n",
       "1         C        C4   < 1 year           RENT  ...            0.0   \n",
       "2         C        C5  10+ years           RENT  ...            0.0   \n",
       "3         C        C1  10+ years           RENT  ...            0.0   \n",
       "5         A        A4    3 years           RENT  ...            0.0   \n",
       "...     ...       ...        ...            ...  ...            ...   \n",
       "39712     A        A4    4 years       MORTGAGE  ...            0.0   \n",
       "39713     C        C1    3 years           RENT  ...            0.0   \n",
       "39714     A        A4   < 1 year       MORTGAGE  ...            0.0   \n",
       "39715     A        A2   < 1 year       MORTGAGE  ...            0.0   \n",
       "39716     E        E2   < 1 year            OWN  ...            0.0   \n",
       "\n",
       "        total_pymnt total_pymnt_inv total_rec_prncp total_rec_int  \\\n",
       "0       5863.155187         5833.84         5000.00        863.16   \n",
       "1       1008.710000         1008.71          456.46        435.17   \n",
       "2       3005.666844         3005.67         2400.00        605.67   \n",
       "3      12231.890000        12231.89        10000.00       2214.92   \n",
       "5       5632.210000         5632.21         5000.00        632.21   \n",
       "...             ...             ...             ...           ...   \n",
       "39712   2822.969293         1213.88         2500.00        322.97   \n",
       "39713   9913.491822         1020.51         8500.00       1413.49   \n",
       "39714   5272.161128         1397.12         5000.00        272.16   \n",
       "39715   5174.198551          672.66         5000.00        174.20   \n",
       "39716   9195.263334          980.83         7500.00       1695.26   \n",
       "\n",
       "      last_pymnt_d last_pymnt_amnt  last_credit_pull_d  pub_rec_bankruptcies  \\\n",
       "0           Jan-15          171.62              May-16                   0.0   \n",
       "1           Apr-13          119.66              Sep-13                   0.0   \n",
       "2           Jun-14          649.91              May-16                   0.0   \n",
       "3           Jan-15          357.48              Apr-16                   0.0   \n",
       "5           Jan-15          161.03              Jan-16                   0.0   \n",
       "...            ...             ...                 ...                   ...   \n",
       "39712       Jul-10           80.90              Jun-10                   NaN   \n",
       "39713       Jul-10          281.94              Jul-10                   NaN   \n",
       "39714       Apr-08            0.00              Jun-07                   NaN   \n",
       "39715       Jan-08            0.00              Jun-07                   NaN   \n",
       "39716       Jun-10          256.59              Jun-10                   NaN   \n",
       "\n",
       "      emp_length_years  \n",
       "0                   10  \n",
       "1                  0.9  \n",
       "2                   10  \n",
       "3                   10  \n",
       "5                    3  \n",
       "...                ...  \n",
       "39712                4  \n",
       "39713                3  \n",
       "39714              0.9  \n",
       "39715              0.9  \n",
       "39716              0.9  \n",
       "\n",
       "[38577 rows x 37 columns]"
      ]
     },
     "execution_count": 29,
     "metadata": {},
     "output_type": "execute_result"
    }
   ],
   "source": [
    "cust_cleaned['emp_length_years']=cust_cleaned['emp_length'].str.rstrip('years ')\n",
    "cust_cleaned['emp_length_years']=cust_cleaned['emp_length_years'].replace('10+','10')\n",
    "cust_cleaned['emp_length_years']=cust_cleaned['emp_length_years'].replace('< 1','0.9')\n",
    "cust_cleaned"
   ]
  },
  {
   "cell_type": "code",
   "execution_count": 30,
   "id": "1c806c2f-40f8-420b-bdb3-24f78b62b601",
   "metadata": {},
   "outputs": [
    {
     "data": {
      "text/plain": [
       "697"
      ]
     },
     "execution_count": 30,
     "metadata": {},
     "output_type": "execute_result"
    }
   ],
   "source": [
    "#analysing pub_rec_bankruptcies column\n",
    "cust_cleaned['pub_rec_bankruptcies'].isnull().sum()"
   ]
  },
  {
   "cell_type": "code",
   "execution_count": 31,
   "id": "161af80d-8b20-4a67-bece-28e98eaaae1b",
   "metadata": {},
   "outputs": [],
   "source": [
    "# as null and 0 means the same filling the null values with 0 \n",
    "cust_cleaned['pub_rec_bankruptcies']=cust_cleaned['pub_rec_bankruptcies'].fillna(0)"
   ]
  },
  {
   "cell_type": "code",
   "execution_count": 32,
   "id": "c344622c-2dbb-4757-bccb-989e6023a469",
   "metadata": {},
   "outputs": [
    {
     "data": {
      "text/plain": [
       "dtype('float64')"
      ]
     },
     "execution_count": 32,
     "metadata": {},
     "output_type": "execute_result"
    }
   ],
   "source": [
    "cust_cleaned['pub_rec_bankruptcies'].dtypes"
   ]
  },
  {
   "cell_type": "code",
   "execution_count": 33,
   "id": "9f53a2db-e025-4801-aa01-b89efd56f412",
   "metadata": {},
   "outputs": [
    {
     "data": {
      "text/plain": [
       "loan_amnt               0.000000\n",
       "funded_amnt             0.000000\n",
       "funded_amnt_inv         0.000000\n",
       "term                    0.000000\n",
       "int_rate                0.000000\n",
       "installment             0.000000\n",
       "grade                   0.000000\n",
       "sub_grade               0.000000\n",
       "emp_length              2.677761\n",
       "home_ownership          0.000000\n",
       "annual_inc              0.000000\n",
       "verification_status     0.000000\n",
       "issue_d                 0.000000\n",
       "loan_status             0.000000\n",
       "purpose                 0.000000\n",
       "zip_code                0.000000\n",
       "addr_state              0.000000\n",
       "dti                     0.000000\n",
       "delinq_2yrs             0.000000\n",
       "earliest_cr_line        0.000000\n",
       "inq_last_6mths          0.000000\n",
       "open_acc                0.000000\n",
       "pub_rec                 0.000000\n",
       "revol_bal               0.000000\n",
       "revol_util              0.129611\n",
       "total_acc               0.000000\n",
       "out_prncp               0.000000\n",
       "out_prncp_inv           0.000000\n",
       "total_pymnt             0.000000\n",
       "total_pymnt_inv         0.000000\n",
       "total_rec_prncp         0.000000\n",
       "total_rec_int           0.000000\n",
       "last_pymnt_d            0.184047\n",
       "last_pymnt_amnt         0.000000\n",
       "last_credit_pull_d      0.005184\n",
       "pub_rec_bankruptcies    0.000000\n",
       "emp_length_years        2.677761\n",
       "dtype: float64"
      ]
     },
     "execution_count": 33,
     "metadata": {},
     "output_type": "execute_result"
    }
   ],
   "source": [
    "cust_cleaned.isnull().sum()*100/len(cust_cleaned)"
   ]
  },
  {
   "cell_type": "code",
   "execution_count": 34,
   "id": "ea306305-2f77-4395-9edf-97ccd71905be",
   "metadata": {},
   "outputs": [
    {
     "data": {
      "text/plain": [
       "1033"
      ]
     },
     "execution_count": 34,
     "metadata": {},
     "output_type": "execute_result"
    }
   ],
   "source": [
    "cust_cleaned['emp_length_years'].isnull().sum()"
   ]
  },
  {
   "cell_type": "code",
   "execution_count": 35,
   "id": "3283c5b7-eec4-4ecc-a1c2-5b3d44f09961",
   "metadata": {},
   "outputs": [],
   "source": [
    "# emp_length_years null means the employee has 0 years, so populating with the default value of 0\n",
    "cust_cleaned['emp_length_years']=cust_cleaned['emp_length_years'].fillna(0)\n"
   ]
  },
  {
   "cell_type": "code",
   "execution_count": 36,
   "id": "2b869c18-0ca0-4719-9252-806cea55b65e",
   "metadata": {},
   "outputs": [
    {
     "data": {
      "text/plain": [
       "50"
      ]
     },
     "execution_count": 36,
     "metadata": {},
     "output_type": "execute_result"
    }
   ],
   "source": [
    "# checking revol_util column for the null values\n",
    "cust_cleaned['revol_util'].isnull().sum()"
   ]
  },
  {
   "cell_type": "code",
   "execution_count": 37,
   "id": "a5e718d7-192a-4362-8429-17cf0718c990",
   "metadata": {},
   "outputs": [],
   "source": [
    "cust_cleaned['revol_util']=cust_cleaned['revol_util'].apply(lambda x: str(x).replace('%',''))\n"
   ]
  },
  {
   "cell_type": "code",
   "execution_count": 38,
   "id": "ca4bfe52-9c69-4467-8fcd-500754af3e92",
   "metadata": {},
   "outputs": [],
   "source": [
    "cust_cleaned['revol_util']=cust_cleaned['revol_util'].astype(float)"
   ]
  },
  {
   "cell_type": "code",
   "execution_count": 39,
   "id": "57b1f565-7a5d-4cd9-a713-6ac745d06550",
   "metadata": {},
   "outputs": [
    {
     "data": {
      "text/plain": [
       "count    38527.000000\n",
       "mean        48.702777\n",
       "std         28.364741\n",
       "min          0.000000\n",
       "25%         25.200000\n",
       "50%         49.100000\n",
       "75%         72.300000\n",
       "max         99.900000\n",
       "Name: revol_util, dtype: float64"
      ]
     },
     "execution_count": 39,
     "metadata": {},
     "output_type": "execute_result"
    }
   ],
   "source": [
    "cust_cleaned['revol_util'].describe()"
   ]
  },
  {
   "cell_type": "code",
   "execution_count": 40,
   "id": "d8d7c7ca-80aa-4933-b11f-232bc3abd7ae",
   "metadata": {},
   "outputs": [],
   "source": [
    "cust_cleaned[\"revol_util\"]=cust_cleaned[\"revol_util\"].fillna(cust_cleaned[\"revol_util\"].quantile(0.5))"
   ]
  },
  {
   "cell_type": "code",
   "execution_count": 41,
   "id": "e5474880-2da7-46d2-9caa-e5d68d313ffb",
   "metadata": {},
   "outputs": [
    {
     "data": {
      "text/plain": [
       "71"
      ]
     },
     "execution_count": 41,
     "metadata": {},
     "output_type": "execute_result"
    }
   ],
   "source": [
    "# only few columns are present with null values so removing those columns \n",
    "cust_cleaned[\"last_credit_pull_d\"].isnull().sum()\n",
    "cust_cleaned[\"last_pymnt_d\"].isnull().sum()\n",
    " "
   ]
  },
  {
   "cell_type": "code",
   "execution_count": 42,
   "id": "893f4e20-0158-48c2-a0a7-78e47cc5bb90",
   "metadata": {},
   "outputs": [],
   "source": [
    "cust_cleaned=cust_cleaned[~cust_cleaned[\"last_credit_pull_d\"].isnull()]\n",
    "cust_cleaned=cust_cleaned[~cust_cleaned[\"last_pymnt_d\"].isnull()]"
   ]
  },
  {
   "cell_type": "code",
   "execution_count": 43,
   "id": "23117bde-31bf-4caa-9e39-021b83aa642a",
   "metadata": {},
   "outputs": [
    {
     "data": {
      "text/plain": [
       "loan_amnt               0.000000\n",
       "funded_amnt             0.000000\n",
       "funded_amnt_inv         0.000000\n",
       "term                    0.000000\n",
       "int_rate                0.000000\n",
       "installment             0.000000\n",
       "grade                   0.000000\n",
       "sub_grade               0.000000\n",
       "emp_length              2.669852\n",
       "home_ownership          0.000000\n",
       "annual_inc              0.000000\n",
       "verification_status     0.000000\n",
       "issue_d                 0.000000\n",
       "loan_status             0.000000\n",
       "purpose                 0.000000\n",
       "zip_code                0.000000\n",
       "addr_state              0.000000\n",
       "dti                     0.000000\n",
       "delinq_2yrs             0.000000\n",
       "earliest_cr_line        0.000000\n",
       "inq_last_6mths          0.000000\n",
       "open_acc                0.000000\n",
       "pub_rec                 0.000000\n",
       "revol_bal               0.000000\n",
       "revol_util              0.000000\n",
       "total_acc               0.000000\n",
       "out_prncp               0.000000\n",
       "out_prncp_inv           0.000000\n",
       "total_pymnt             0.000000\n",
       "total_pymnt_inv         0.000000\n",
       "total_rec_prncp         0.000000\n",
       "total_rec_int           0.000000\n",
       "last_pymnt_d            0.000000\n",
       "last_pymnt_amnt         0.000000\n",
       "last_credit_pull_d      0.000000\n",
       "pub_rec_bankruptcies    0.000000\n",
       "emp_length_years        0.000000\n",
       "dtype: float64"
      ]
     },
     "execution_count": 43,
     "metadata": {},
     "output_type": "execute_result"
    }
   ],
   "source": [
    "#checking percentage of null values again\n",
    "cust_cleaned.isnull().sum()*100/len(cust_cleaned)"
   ]
  },
  {
   "cell_type": "code",
   "execution_count": 44,
   "id": "e4b301ca-6770-43cb-bd14-6435ce92288d",
   "metadata": {},
   "outputs": [],
   "source": [
    "# removing employee length column as its been converted to emp_length_years column\n",
    "cust_cleaned=cust_cleaned.drop(labels=['emp_length'],axis=1)\n"
   ]
  },
  {
   "cell_type": "code",
   "execution_count": 45,
   "id": "43aa15b1-705b-48b9-b465-848d6a61a53b",
   "metadata": {},
   "outputs": [
    {
     "data": {
      "text/plain": [
       "loan_status\n",
       "Fully Paid     85.572927\n",
       "Charged Off    14.427073\n",
       "Name: count, dtype: float64"
      ]
     },
     "execution_count": 45,
     "metadata": {},
     "output_type": "execute_result"
    }
   ],
   "source": [
    "#checking % of loan status wise \n",
    "cust_cleaned.loan_status.value_counts()*100/len(cust_cleaned)\n",
    "\n",
    "\n"
   ]
  },
  {
   "cell_type": "markdown",
   "id": "5250d943-ef9c-4a30-9130-2d8f61fa357f",
   "metadata": {},
   "source": [
    "**Approx 85% of loans are fully paid**\n",
    "\n",
    "**Approx 14% of loans are defaulters** "
   ]
  },
  {
   "cell_type": "markdown",
   "id": "4e3560c9-d846-4a40-b25a-589e99f2727b",
   "metadata": {},
   "source": [
    "**performing sanity check on funded amount**"
   ]
  },
  {
   "cell_type": "code",
   "execution_count": 48,
   "id": "f42bf6e4-dd6e-43a2-8e84-49c2cf4549de",
   "metadata": {},
   "outputs": [
    {
     "data": {
      "text/html": [
       "<div>\n",
       "<style scoped>\n",
       "    .dataframe tbody tr th:only-of-type {\n",
       "        vertical-align: middle;\n",
       "    }\n",
       "\n",
       "    .dataframe tbody tr th {\n",
       "        vertical-align: top;\n",
       "    }\n",
       "\n",
       "    .dataframe thead th {\n",
       "        text-align: right;\n",
       "    }\n",
       "</style>\n",
       "<table border=\"1\" class=\"dataframe\">\n",
       "  <thead>\n",
       "    <tr style=\"text-align: right;\">\n",
       "      <th></th>\n",
       "      <th>loan_amnt</th>\n",
       "      <th>funded_amnt</th>\n",
       "      <th>funded_amnt_inv</th>\n",
       "      <th>term</th>\n",
       "      <th>int_rate</th>\n",
       "      <th>installment</th>\n",
       "      <th>grade</th>\n",
       "      <th>sub_grade</th>\n",
       "      <th>home_ownership</th>\n",
       "      <th>annual_inc</th>\n",
       "      <th>...</th>\n",
       "      <th>out_prncp_inv</th>\n",
       "      <th>total_pymnt</th>\n",
       "      <th>total_pymnt_inv</th>\n",
       "      <th>total_rec_prncp</th>\n",
       "      <th>total_rec_int</th>\n",
       "      <th>last_pymnt_d</th>\n",
       "      <th>last_pymnt_amnt</th>\n",
       "      <th>last_credit_pull_d</th>\n",
       "      <th>pub_rec_bankruptcies</th>\n",
       "      <th>emp_length_years</th>\n",
       "    </tr>\n",
       "  </thead>\n",
       "  <tbody>\n",
       "  </tbody>\n",
       "</table>\n",
       "<p>0 rows × 36 columns</p>\n",
       "</div>"
      ],
      "text/plain": [
       "Empty DataFrame\n",
       "Columns: [loan_amnt, funded_amnt, funded_amnt_inv, term, int_rate, installment, grade, sub_grade, home_ownership, annual_inc, verification_status, issue_d, loan_status, purpose, zip_code, addr_state, dti, delinq_2yrs, earliest_cr_line, inq_last_6mths, open_acc, pub_rec, revol_bal, revol_util, total_acc, out_prncp, out_prncp_inv, total_pymnt, total_pymnt_inv, total_rec_prncp, total_rec_int, last_pymnt_d, last_pymnt_amnt, last_credit_pull_d, pub_rec_bankruptcies, emp_length_years]\n",
       "Index: []\n",
       "\n",
       "[0 rows x 36 columns]"
      ]
     },
     "execution_count": 48,
     "metadata": {},
     "output_type": "execute_result"
    }
   ],
   "source": [
    "# performing sanity check on funded amount \n",
    "# as the funded amount cannot be more than the loan amount \n",
    "cust_cleaned[cust_cleaned[\"funded_amnt\"] > cust_cleaned [\"loan_amnt\"]]"
   ]
  },
  {
   "cell_type": "code",
   "execution_count": 49,
   "id": "43d37ebb-5c36-427e-85ac-4ce6e7a04fcf",
   "metadata": {},
   "outputs": [
    {
     "data": {
      "text/plain": [
       "purpose\n",
       "debt_consolidation    46.815915\n",
       "credit_card           13.047995\n",
       "other                 10.009350\n",
       "home_improvement       7.458965\n",
       "major_purchase         5.570850\n",
       "small_business         4.531997\n",
       "car                    3.893102\n",
       "wedding                2.389362\n",
       "medical                1.766050\n",
       "moving                 1.495948\n",
       "vacation               0.973925\n",
       "house                  0.947953\n",
       "educational            0.836277\n",
       "renewable_energy       0.262310\n",
       "Name: count, dtype: float64"
      ]
     },
     "execution_count": 49,
     "metadata": {},
     "output_type": "execute_result"
    }
   ],
   "source": [
    "#Check percentage of the Purpose for which the loans have been availed.\n",
    "(cust_cleaned.purpose.value_counts()*100)/len(cust_cleaned)"
   ]
  },
  {
   "cell_type": "markdown",
   "id": "1ffd6504-fc79-4477-85b2-ae974faa5556",
   "metadata": {},
   "source": [
    "**Need to check outliers in numerical columns. Categorical variables represent distinct categories or groups, and the concept of outliers doesn't apply directly to them**"
   ]
  },
  {
   "cell_type": "code",
   "execution_count": 51,
   "id": "3dfec9fd-5ac8-42b7-8910-2b4f218a303d",
   "metadata": {},
   "outputs": [
    {
     "data": {
      "text/plain": [
       "<Axes: ylabel='annual_inc'>"
      ]
     },
     "execution_count": 51,
     "metadata": {},
     "output_type": "execute_result"
    },
    {
     "data": {
      "image/png": "[encoded data removed]",
      "text/plain": [
       "<Figure size 640x480 with 1 Axes>"
      ]
     },
     "metadata": {},
     "output_type": "display_data"
    }
   ],
   "source": [
    "# checking on the outliners in annual income ,as annual income can vary between the users \n",
    "sns.boxplot(cust_cleaned['annual_inc'])"
   ]
  },
  {
   "cell_type": "markdown",
   "id": "70c239ea-b59d-4d18-b232-7a0b3833ad9d",
   "metadata": {},
   "source": [
    "**This Clearly indicates the presence of the outlierns**\n",
    "- The max value is 6M ,lets check on the percentiles of 0.95 and 0.99 before making the decision \n",
    "\n"
   ]
  },
  {
   "cell_type": "code",
   "execution_count": 53,
   "id": "52428f85-08c0-4494-bb8f-222117a0f91f",
   "metadata": {},
   "outputs": [
    {
     "data": {
      "text/plain": [
       "count    3.850400e+04\n",
       "mean     6.881818e+04\n",
       "std      6.426158e+04\n",
       "min      4.000000e+03\n",
       "5%       2.400000e+04\n",
       "10%      3.000000e+04\n",
       "25%      4.000000e+04\n",
       "50%      5.900000e+04\n",
       "75%      8.200000e+04\n",
       "90%      1.151475e+05\n",
       "95%      1.400040e+05\n",
       "99%      2.345820e+05\n",
       "max      6.000000e+06\n",
       "Name: annual_inc, dtype: float64"
      ]
     },
     "execution_count": 53,
     "metadata": {},
     "output_type": "execute_result"
    }
   ],
   "source": [
    "# checking the percentile for annual_inc\n",
    "cust_cleaned.annual_inc.describe(percentiles=[0.05,0.1,0.25,0.5,0.75,0.9,0.95,0.99])"
   ]
  },
  {
   "cell_type": "markdown",
   "id": "d95210bf-f93d-4511-862f-e0426e2caa62",
   "metadata": {},
   "source": [
    "**The value after 95% seems to be disconnected**\n",
    "- so removing the values after the 95%"
   ]
  },
  {
   "cell_type": "code",
   "execution_count": 55,
   "id": "f9fb11b4-f47c-469a-9bd1-1f340498791e",
   "metadata": {},
   "outputs": [],
   "source": [
    "annual_income_95=cust_cleaned['annual_inc'].quantile(0.95)\n",
    "cust_cleaned=cust_cleaned[cust_cleaned.annual_inc <= annual_income_95]"
   ]
  },
  {
   "cell_type": "code",
   "execution_count": 56,
   "id": "375256e5-9c0c-4702-a25b-eb371103619d",
   "metadata": {},
   "outputs": [
    {
     "data": {
      "text/plain": [
       "<Axes: ylabel='annual_inc'>"
      ]
     },
     "execution_count": 56,
     "metadata": {},
     "output_type": "execute_result"
    },
    {
     "data": {
      "image/png": "[encoded data removed]",
      "text/plain": [
       "<Figure size 640x480 with 1 Axes>"
      ]
     },
     "metadata": {},
     "output_type": "display_data"
    }
   ],
   "source": [
    "sns.boxplot(cust_cleaned['annual_inc'])"
   ]
  },
  {
   "cell_type": "markdown",
   "id": "1c6647e0-813a-49be-8918-5a8ad69714ac",
   "metadata": {},
   "source": [
    "**The annual income data is good without any outliners**\n",
    "- moving to next numerical column\n",
    "- checking the dti , loan amount, funded_amnt_inv columns "
   ]
  },
  {
   "cell_type": "code",
   "execution_count": 58,
   "id": "34e76efa-9fbe-48f4-a9fc-7eaf8291dd2d",
   "metadata": {},
   "outputs": [
    {
     "data": {
      "text/plain": [
       "<Axes: ylabel='dti'>"
      ]
     },
     "execution_count": 58,
     "metadata": {},
     "output_type": "execute_result"
    },
    {
     "data": {
      "image/png": "[encoded data removed]",
      "text/plain": [
       "<Figure size 640x480 with 1 Axes>"
      ]
     },
     "metadata": {},
     "output_type": "display_data"
    }
   ],
   "source": [
    "sns.boxplot(cust_cleaned.dti)"
   ]
  },
  {
   "cell_type": "code",
   "execution_count": 59,
   "id": "7cfdc8c8-a222-4940-9464-2121bab8afb2",
   "metadata": {},
   "outputs": [
    {
     "data": {
      "text/plain": [
       "<Axes: ylabel='loan_amnt'>"
      ]
     },
     "execution_count": 59,
     "metadata": {},
     "output_type": "execute_result"
    },
    {
     "data": {
      "image/png": "[encoded data removed]",
      "text/plain": [
       "<Figure size 640x480 with 1 Axes>"
      ]
     },
     "metadata": {},
     "output_type": "display_data"
    }
   ],
   "source": [
    "sns.boxplot(cust_cleaned.loan_amnt)"
   ]
  },
  {
   "cell_type": "code",
   "execution_count": 60,
   "id": "2253fad2-2121-474b-b28c-5c707fe4febc",
   "metadata": {},
   "outputs": [
    {
     "data": {
      "text/plain": [
       "0.750    15000.0\n",
       "0.900    20000.0\n",
       "0.950    25000.0\n",
       "0.970    25475.0\n",
       "0.975    28000.0\n",
       "0.980    30000.0\n",
       "0.990    35000.0\n",
       "1.000    35000.0\n",
       "Name: loan_amnt, dtype: float64"
      ]
     },
     "execution_count": 60,
     "metadata": {},
     "output_type": "execute_result"
    }
   ],
   "source": [
    "cust_cleaned.loan_amnt.quantile([0.75,0.90,0.95,0.97,0.975, 0.98, 0.99, 1.0])"
   ]
  },
  {
   "cell_type": "code",
   "execution_count": 61,
   "id": "de34bdd5-2547-4c9e-83ba-4b61c69b26c6",
   "metadata": {},
   "outputs": [
    {
     "data": {
      "text/plain": [
       "<Axes: ylabel='funded_amnt_inv'>"
      ]
     },
     "execution_count": 61,
     "metadata": {},
     "output_type": "execute_result"
    },
    {
     "data": {
      "image/png": "[encoded data removed]",
      "text/plain": [
       "<Figure size 640x480 with 1 Axes>"
      ]
     },
     "metadata": {},
     "output_type": "display_data"
    }
   ],
   "source": [
    "sns.boxplot(cust_cleaned.funded_amnt_inv)"
   ]
  },
  {
   "cell_type": "code",
   "execution_count": 62,
   "id": "332bf0b5-76ff-46fc-9959-fb3885f66269",
   "metadata": {},
   "outputs": [
    {
     "data": {
      "text/plain": [
       "0.50     8391.372858\n",
       "0.75    13644.504000\n",
       "0.90    19750.000000\n",
       "0.95    23947.151220\n",
       "0.97    24975.000000\n",
       "0.98    27951.461128\n",
       "0.99    31946.842804\n",
       "Name: funded_amnt_inv, dtype: float64"
      ]
     },
     "execution_count": 62,
     "metadata": {},
     "output_type": "execute_result"
    }
   ],
   "source": [
    "cust_cleaned.funded_amnt_inv.quantile([0.5,0.75,0.90,0.95,0.97,0.98,0.99])"
   ]
  },
  {
   "cell_type": "markdown",
   "id": "b3db5117-818c-4c4b-b750-3982ccde50c8",
   "metadata": {},
   "source": [
    "- there difference in some values but the distrubution is continous "
   ]
  },
  {
   "cell_type": "markdown",
   "id": "1b19274f-f119-42bc-adef-4bb02e80624b",
   "metadata": {},
   "source": [
    "**Segmented Univariate Analysis**\n",
    "\n",
    "- we already have the grade column will analyse the subgrade column \n",
    "\n",
    "\n"
   ]
  },
  {
   "cell_type": "code",
   "execution_count": 65,
   "id": "041a177f-ad61-4066-9601-afb0067e8a06",
   "metadata": {},
   "outputs": [
    {
     "data": {
      "text/plain": [
       "0    2\n",
       "1    4\n",
       "2    5\n",
       "3    1\n",
       "5    4\n",
       "Name: sub_grade, dtype: int64"
      ]
     },
     "execution_count": 65,
     "metadata": {},
     "output_type": "execute_result"
    }
   ],
   "source": [
    "cust_cleaned.sub_grade=pd.to_numeric(cust_cleaned.sub_grade.apply(lambda x: x[-1]))\n",
    "cust_cleaned.sub_grade.head()"
   ]
  },
  {
   "cell_type": "code",
   "execution_count": 66,
   "id": "7bc19e65-9815-450f-aaf2-4d13e7287eea",
   "metadata": {},
   "outputs": [
    {
     "data": {
      "text/plain": [
       "<Axes: xlabel='grade', ylabel='count'>"
      ]
     },
     "execution_count": 66,
     "metadata": {},
     "output_type": "execute_result"
    },
    {
     "data": {
      "image/png": "[encoded data removed]",
      "text/plain": [
       "<Figure size 1200x700 with 1 Axes>"
      ]
     },
     "metadata": {},
     "output_type": "display_data"
    }
   ],
   "source": [
    "fig,ax=plt.subplots(figsize=(12,7))\n",
    "sns.countplot(x='grade',order =['A','B','C','D','E','F','G'], hue='sub_grade',data=cust_cleaned[cust_cleaned.loan_status=='Charged Off'])"
   ]
  },
  {
   "cell_type": "code",
   "execution_count": 67,
   "id": "d0bb15c9-d247-4e55-af92-f3169c7f59aa",
   "metadata": {},
   "outputs": [
    {
     "data": {
      "text/plain": [
       "<Axes: xlabel='grade', ylabel='count'>"
      ]
     },
     "execution_count": 67,
     "metadata": {},
     "output_type": "execute_result"
    },
    {
     "data": {
      "image/png": "[encoded data removed]",
      "text/plain": [
       "<Figure size 640x480 with 1 Axes>"
      ]
     },
     "metadata": {},
     "output_type": "display_data"
    }
   ],
   "source": [
    "sns.countplot(x='grade',data=cust_cleaned[cust_cleaned.loan_status=='Charged Off'],order=['A','B','C','D','E','F','G'])"
   ]
  },
  {
   "cell_type": "markdown",
   "id": "8729e39e-81c1-440a-946f-2101f97e519d",
   "metadata": {},
   "source": [
    "**Checking home ownership**"
   ]
  },
  {
   "cell_type": "code",
   "execution_count": 69,
   "id": "79d75813-461f-4dbb-b71d-26b778d10eff",
   "metadata": {},
   "outputs": [
    {
     "data": {
      "text/plain": [
       "array(['RENT', 'OWN', 'MORTGAGE', 'OTHER', 'NONE'], dtype=object)"
      ]
     },
     "execution_count": 69,
     "metadata": {},
     "output_type": "execute_result"
    }
   ],
   "source": [
    "cust_cleaned['home_ownership'].unique()"
   ]
  },
  {
   "cell_type": "code",
   "execution_count": 70,
   "id": "3f230250-0037-4873-96ec-56432ffd6c17",
   "metadata": {},
   "outputs": [
    {
     "data": {
      "text/plain": [
       "home_ownership\n",
       "RENT        17978\n",
       "MORTGAGE    15660\n",
       "OWN          2847\n",
       "OTHER          93\n",
       "NONE            3\n",
       "Name: count, dtype: int64"
      ]
     },
     "execution_count": 70,
     "metadata": {},
     "output_type": "execute_result"
    }
   ],
   "source": [
    "cust_cleaned['home_ownership'].value_counts()"
   ]
  },
  {
   "cell_type": "code",
   "execution_count": 71,
   "id": "539a268f-cb54-4708-93d4-cbb1803524be",
   "metadata": {},
   "outputs": [
    {
     "name": "stderr",
     "output_type": "stream",
     "text": [
      "C:\\Users\\lokes\\AppData\\Local\\Temp\\ipykernel_26864\\2237881567.py:2: FutureWarning: A value is trying to be set on a copy of a DataFrame or Series through chained assignment using an inplace method.\n",
      "The behavior will change in pandas 3.0. This inplace method will never work because the intermediate object on which we are setting values always behaves as a copy.\n",
      "\n",
      "For example, when doing 'df[col].method(value, inplace=True)', try using 'df.method({col: value}, inplace=True)' or df[col] = df[col].method(value) instead, to perform the operation inplace on the original object.\n",
      "\n",
      "\n",
      "  cust_cleaned['home_ownership'].replace(to_replace = ['NONE'],value='OTHER',inplace = True)\n"
     ]
    }
   ],
   "source": [
    "#only three NONE values are persent replacing the NONE values with Other\n",
    "cust_cleaned['home_ownership'].replace(to_replace = ['NONE'],value='OTHER',inplace = True)"
   ]
  },
  {
   "cell_type": "code",
   "execution_count": 72,
   "id": "d6b894bc-8911-47c8-8681-f81750b7853b",
   "metadata": {},
   "outputs": [
    {
     "data": {
      "text/plain": [
       "home_ownership\n",
       "RENT        17978\n",
       "MORTGAGE    15660\n",
       "OWN          2847\n",
       "OTHER          96\n",
       "Name: count, dtype: int64"
      ]
     },
     "execution_count": 72,
     "metadata": {},
     "output_type": "execute_result"
    }
   ],
   "source": [
    "cust_cleaned['home_ownership'].value_counts()"
   ]
  },
  {
   "cell_type": "code",
   "execution_count": 73,
   "id": "d1315e19-3adc-4102-bff5-1fdeb56503ac",
   "metadata": {},
   "outputs": [
    {
     "data": {
      "text/plain": [
       "<Axes: xlabel='home_ownership', ylabel='count'>"
      ]
     },
     "execution_count": 73,
     "metadata": {},
     "output_type": "execute_result"
    },
    {
     "data": {
      "image/png": "[encoded data removed]",
      "text/plain": [
       "<Figure size 600x400 with 1 Axes>"
      ]
     },
     "metadata": {},
     "output_type": "display_data"
    }
   ],
   "source": [
    "fig,ax=plt.subplots(figsize=(6,4))\n",
    "sns.countplot(x='home_ownership', data=cust_cleaned[cust_cleaned['loan_status']=='Charged Off'])"
   ]
  },
  {
   "cell_type": "markdown",
   "id": "e85df426-527f-4bdf-a613-cc5c4956ce85",
   "metadata": {},
   "source": [
    "**Analysing the purpose column**"
   ]
  },
  {
   "cell_type": "code",
   "execution_count": 75,
   "id": "2efa4b7a-e910-4a66-8a1d-738f5541f85a",
   "metadata": {},
   "outputs": [
    {
     "data": {
      "text/plain": [
       "<Axes: xlabel='count', ylabel='purpose'>"
      ]
     },
     "execution_count": 75,
     "metadata": {},
     "output_type": "execute_result"
    },
    {
     "data": {
      "image/png": "[encoded data removed]",
      "text/plain": [
       "<Figure size 1200x800 with 1 Axes>"
      ]
     },
     "metadata": {},
     "output_type": "display_data"
    }
   ],
   "source": [
    "fig,ax=plt.subplots(figsize=(12,8))\n",
    "sns.countplot(y='purpose',data=cust_cleaned[cust_cleaned.loan_status=='Charged Off'])"
   ]
  },
  {
   "cell_type": "markdown",
   "id": "4c17f57a-1b06-49ac-b52d-a58f12e0c6a2",
   "metadata": {},
   "source": [
    "**Analysing the employee length column**"
   ]
  },
  {
   "cell_type": "code",
   "execution_count": 77,
   "id": "2acf2367-3705-4fb2-865f-61bb67c35efe",
   "metadata": {},
   "outputs": [
    {
     "data": {
      "text/plain": [
       "<Axes: xlabel='emp_length_years', ylabel='count'>"
      ]
     },
     "execution_count": 77,
     "metadata": {},
     "output_type": "execute_result"
    },
    {
     "data": {
      "image/png": "[encoded data removed]",
      "text/plain": [
       "<Figure size 1500x1000 with 1 Axes>"
      ]
     },
     "metadata": {},
     "output_type": "display_data"
    }
   ],
   "source": [
    "fig, ax = plt.subplots(figsize = (15,10))\n",
    "sns.countplot(x='emp_length_years', data=cust_cleaned[cust_cleaned.loan_status == 'Charged Off'],order=['0.9','1','2','3','4','5','6','7','8','9','10'])"
   ]
  },
  {
   "cell_type": "markdown",
   "id": "eba088a6-cef3-423e-94ec-800137d2ec59",
   "metadata": {},
   "source": [
    "**creating bins for int_rate for numerical variable to make it a categorial one**"
   ]
  },
  {
   "cell_type": "code",
   "execution_count": 79,
   "id": "2c4ffc3f-f76f-4f30-bf93-0b7e6b46c818",
   "metadata": {},
   "outputs": [],
   "source": [
    "cust_cleaned['int_rate_groups'] = pd.cut(cust_cleaned['int_rate'], bins=5,precision =0,labels=['5%-9%','9%-15%','15%-17%','17%-21%','21%-24%'])"
   ]
  },
  {
   "cell_type": "code",
   "execution_count": 80,
   "id": "cc513634-581f-498b-87be-6f5c1e984ff5",
   "metadata": {},
   "outputs": [
    {
     "data": {
      "text/plain": [
       "int_rate_groups\n",
       "9%-15%     13451\n",
       "15%-17%    10151\n",
       "5%-9%       9440\n",
       "17%-21%     3082\n",
       "21%-24%      457\n",
       "Name: count, dtype: int64"
      ]
     },
     "execution_count": 80,
     "metadata": {},
     "output_type": "execute_result"
    }
   ],
   "source": [
    "cust_cleaned['int_rate_groups'] .value_counts()"
   ]
  },
  {
   "cell_type": "code",
   "execution_count": 81,
   "id": "91ed0a13-7e5a-4c36-afad-8a75d387a479",
   "metadata": {},
   "outputs": [
    {
     "data": {
      "text/plain": [
       "<Axes: xlabel='int_rate_groups', ylabel='count'>"
      ]
     },
     "execution_count": 81,
     "metadata": {},
     "output_type": "execute_result"
    },
    {
     "data": {
      "image/png": "[encoded data removed]",
      "text/plain": [
       "<Figure size 1500x1000 with 1 Axes>"
      ]
     },
     "metadata": {},
     "output_type": "display_data"
    }
   ],
   "source": [
    "fig, ax = plt.subplots(figsize = (15,10))\n",
    "sns.countplot(x='int_rate_groups', data=cust_cleaned[cust_cleaned.loan_status == 'Charged Off'])"
   ]
  },
  {
   "cell_type": "markdown",
   "id": "6b1f6553-6bf6-4cc7-987e-1985fb4efcdb",
   "metadata": {},
   "source": [
    "**creating bins for total_acc column as having the lot of credit line might impact the barrowers repayment capacity**"
   ]
  },
  {
   "cell_type": "code",
   "execution_count": 83,
   "id": "29d0c64a-14ad-4bd1-b52c-c0d409d80c96",
   "metadata": {},
   "outputs": [],
   "source": [
    "cust_cleaned['total_acc_groups'] = pd.cut(cust_cleaned['total_acc'], bins=5,precision =0,labels=['2-19','19-37','37-55','55-74','74-90'])\n"
   ]
  },
  {
   "cell_type": "code",
   "execution_count": 84,
   "id": "745fe14e-fb85-42b8-b089-41133ef2fcc1",
   "metadata": {},
   "outputs": [
    {
     "data": {
      "text/plain": [
       "<Axes: xlabel='total_acc_groups', ylabel='count'>"
      ]
     },
     "execution_count": 84,
     "metadata": {},
     "output_type": "execute_result"
    },
    {
     "data": {
      "image/png": "[encoded data removed]",
      "text/plain": [
       "<Figure size 800x600 with 1 Axes>"
      ]
     },
     "metadata": {},
     "output_type": "display_data"
    }
   ],
   "source": [
    "\n",
    "fig, ax = plt.subplots(figsize = (8,6))\n",
    "sns.countplot(x='total_acc_groups', data=cust_cleaned[cust_cleaned.loan_status == 'Charged Off'])"
   ]
  },
  {
   "cell_type": "code",
   "execution_count": 85,
   "id": "5da49b64-d0e6-4e0b-8b26-9097981c6f7b",
   "metadata": {},
   "outputs": [
    {
     "data": {
      "text/plain": [
       "<Axes: xlabel='count', ylabel='term'>"
      ]
     },
     "execution_count": 85,
     "metadata": {},
     "output_type": "execute_result"
    },
    {
     "data": {
      "image/png": "[encoded data removed]",
      "text/plain": [
       "<Figure size 640x480 with 1 Axes>"
      ]
     },
     "metadata": {},
     "output_type": "display_data"
    }
   ],
   "source": [
    "sns.countplot(y='term', data=cust_cleaned[cust_cleaned['loan_status']=='Charged Off'])"
   ]
  },
  {
   "cell_type": "markdown",
   "id": "2c46f3f1-08e3-4c86-bb06-f2e3d2343502",
   "metadata": {},
   "source": [
    "**Analysing total income**"
   ]
  },
  {
   "cell_type": "code",
   "execution_count": 87,
   "id": "3bfccf5c-e018-4194-92c7-0490b879370b",
   "metadata": {},
   "outputs": [],
   "source": [
    "cust_cleaned['annual_income_groups'] = pd.cut(cust_cleaned['annual_inc'], bins=5,precision =0,labels =['3k-30k','30k-57k','57k-84k','84k-111k','111k-139k'])"
   ]
  },
  {
   "cell_type": "code",
   "execution_count": 88,
   "id": "975b4528-0941-4378-8769-2ac65aca981d",
   "metadata": {},
   "outputs": [
    {
     "data": {
      "text/plain": [
       "<Axes: xlabel='annual_income_groups', ylabel='count'>"
      ]
     },
     "execution_count": 88,
     "metadata": {},
     "output_type": "execute_result"
    },
    {
     "data": {
      "image/png": "[encoded data removed]",
      "text/plain": [
       "<Figure size 1000x600 with 1 Axes>"
      ]
     },
     "metadata": {},
     "output_type": "display_data"
    }
   ],
   "source": [
    "fig, ax = plt.subplots(figsize = (10,6))\n",
    "sns.countplot(x='annual_income_groups', data=cust_cleaned[cust_cleaned.loan_status == 'Charged Off'])"
   ]
  },
  {
   "cell_type": "markdown",
   "id": "2383f3f2-e9f4-44a0-b7d1-77371c42f28b",
   "metadata": {},
   "source": [
    "**Analysing open account groups**"
   ]
  },
  {
   "cell_type": "code",
   "execution_count": 90,
   "id": "37a1ca37-e9f9-442b-b051-3f1e6cc7f7f3",
   "metadata": {},
   "outputs": [],
   "source": [
    "cust_cleaned['open_acc_groups'] = pd.cut(cust_cleaned['open_acc'],bins = 5,precision =0,labels=['2-9','9-18','18-26','26-35','35-43'])"
   ]
  },
  {
   "cell_type": "code",
   "execution_count": 91,
   "id": "83f040ea-ee32-4ee2-a306-3db7e52134d3",
   "metadata": {},
   "outputs": [
    {
     "data": {
      "text/plain": [
       "<Axes: xlabel='open_acc_groups', ylabel='count'>"
      ]
     },
     "execution_count": 91,
     "metadata": {},
     "output_type": "execute_result"
    },
    {
     "data": {
      "image/png": "[encoded data removed]",
      "text/plain": [
       "<Figure size 700x500 with 1 Axes>"
      ]
     },
     "metadata": {},
     "output_type": "display_data"
    }
   ],
   "source": [
    "fig, ax = plt.subplots(figsize = (7,5))\n",
    "sns.countplot(x='open_acc_groups', data=cust_cleaned[cust_cleaned.loan_status == 'Charged Off'])"
   ]
  },
  {
   "cell_type": "code",
   "execution_count": 92,
   "id": "ed6faad6-38a4-434a-86ed-aeec6798cc19",
   "metadata": {},
   "outputs": [
    {
     "data": {
      "image/png": "[encoded data removed]",
      "text/plain": [
       "<Figure size 700x500 with 1 Axes>"
      ]
     },
     "metadata": {},
     "output_type": "display_data"
    }
   ],
   "source": [
    "fig, ax = plt.subplots(figsize = (7,5))\n",
    "sns.countplot(x='addr_state', data=cust_cleaned[cust_cleaned.loan_status == 'Charged Off'])\n",
    "plt.xticks(rotation=90)\n",
    "plt.xlabel('State')\n",
    "plt.show()"
   ]
  },
  {
   "cell_type": "markdown",
   "id": "82c1f960-973b-4139-867f-a964ece4ca8c",
   "metadata": {},
   "source": [
    "**Analyzing loan amount groups**"
   ]
  },
  {
   "cell_type": "code",
   "execution_count": 94,
   "id": "523c1de0-9073-4cd4-aaba-03adcefbc444",
   "metadata": {},
   "outputs": [],
   "source": [
    "cust_cleaned['loan_amount_groups'] = pd.cut(cust_cleaned['loan_amnt'], bins=7,precision =0,labels=['0-8k','8k-13k','13k-18k','18k-23k','23k-28k','28k-33k','33k-38k'])"
   ]
  },
  {
   "cell_type": "code",
   "execution_count": 95,
   "id": "e7f37f7a-ecba-4576-b9b4-63e0a2185ac9",
   "metadata": {},
   "outputs": [
    {
     "data": {
      "text/plain": [
       "<Axes: xlabel='loan_amount_groups', ylabel='count'>"
      ]
     },
     "execution_count": 95,
     "metadata": {},
     "output_type": "execute_result"
    },
    {
     "data": {
      "image/png": "[encoded data removed]",
      "text/plain": [
       "<Figure size 1200x500 with 1 Axes>"
      ]
     },
     "metadata": {},
     "output_type": "display_data"
    }
   ],
   "source": [
    "fig,ax = plt.subplots(figsize = (12,5))\n",
    "sns.countplot(x='loan_amount_groups', data=cust_cleaned[cust_cleaned['loan_status']=='Charged Off'])"
   ]
  },
  {
   "cell_type": "markdown",
   "id": "2cba8c2c-d8aa-46c4-8946-639885fe1853",
   "metadata": {},
   "source": [
    "**Observations**\n",
    "**From the above charts below inferences can be made**\n",
    "**The person is more likely to default if he falls under below category's**\n",
    "- The people with Grade B and particualry of grade B5\n",
    "- The person who is in rent has defaulted more, may be because of more rental commitments\n",
    "- The person with the purpose of debt consolidation has defaulted more when compared to others\n",
    "- The employee's with equal to or more than 10 years of experience might default\n",
    "- The loans with interest percent of 15%-17% has defaulted more , should consider giving the loan with less interest rate\n",
    "- when the total account is between 2 and 19\n",
    "- Person having 36 months as tenure is defaulting when compared to 60 months tenure\n",
    "- Persons with annual income of 30K-57K is defaulting more\n",
    "- Having 2 to 9 open account increases the changes of defaulting\n",
    "- persons with the loan amount of 8K to 13K has defaulted more\n",
    "- person from CA state has defaulted more"
   ]
  },
  {
   "cell_type": "markdown",
   "id": "d2734ed9-6544-4627-946b-28fb80c63900",
   "metadata": {},
   "source": [
    "**Bivariate Analysis**\n",
    "\n",
    "-Analysing annual income numerical column with other columns"
   ]
  },
  {
   "cell_type": "markdown",
   "id": "53b7333d-ce5f-4d18-9fa1-7992e143b800",
   "metadata": {},
   "source": [
    "**Annual income vs home_ownership**"
   ]
  },
  {
   "cell_type": "code",
   "execution_count": 99,
   "id": "cbc9a50e-64fe-4740-8281-f0919245902a",
   "metadata": {},
   "outputs": [
    {
     "data": {
      "image/png": "[encoded data removed]",
      "text/plain": [
       "<Figure size 800x800 with 1 Axes>"
      ]
     },
     "metadata": {},
     "output_type": "display_data"
    }
   ],
   "source": [
    "#comparing annual income with home ownership\n",
    "plt.figure(figsize=(8,8))\n",
    "sns.barplot(data =cust_cleaned,x='annual_inc', y='home_ownership', hue ='loan_status',palette=\"deep\" )\n",
    "plt.show()"
   ]
  },
  {
   "cell_type": "markdown",
   "id": "eb79547e-98d2-4ef7-92ab-28a2eda61d05",
   "metadata": {},
   "source": [
    "**Observations**\n",
    "- Persons with Mortage having the annual income of 60k to 70k has more possibility of defaulting"
   ]
  },
  {
   "cell_type": "markdown",
   "id": "3c604c88-962a-43f0-95ca-a082d38d3ea3",
   "metadata": {},
   "source": [
    "**Annual income vs loan purpose**"
   ]
  },
  {
   "cell_type": "code",
   "execution_count": 102,
   "id": "6e897a34-a643-442c-b1af-0fb9c65083bd",
   "metadata": {},
   "outputs": [
    {
     "data": {
      "image/png": "[encoded data removed]",
      "text/plain": [
       "<Figure size 800x800 with 1 Axes>"
      ]
     },
     "metadata": {},
     "output_type": "display_data"
    }
   ],
   "source": [
    "plt.figure(figsize=(8,8))\n",
    "sns.barplot(data =cust_cleaned,x='annual_inc', y='purpose', hue ='loan_status',palette=\"deep\")\n",
    "plt.show()"
   ]
  },
  {
   "cell_type": "markdown",
   "id": "1725f01d-6a95-4575-8430-90b9ef2da155",
   "metadata": {},
   "source": [
    "**observation**\n",
    "- person who is taking loan for home improvement and if he has salary of 60k to 70k then he is likely to default"
   ]
  },
  {
   "cell_type": "markdown",
   "id": "6901e7a9-24e0-4301-bad9-aa8b1ca9df2c",
   "metadata": {},
   "source": [
    "**Annual income vs verification status**"
   ]
  },
  {
   "cell_type": "code",
   "execution_count": 105,
   "id": "8a327658-fc57-43d6-8132-38f265e90c76",
   "metadata": {},
   "outputs": [
    {
     "data": {
      "image/png": "[encoded data removed]",
      "text/plain": [
       "<Figure size 800x800 with 1 Axes>"
      ]
     },
     "metadata": {},
     "output_type": "display_data"
    }
   ],
   "source": [
    "plt.figure(figsize=(8,8))\n",
    "sns.barplot(data =cust_cleaned,x='annual_inc', y='verification_status', hue ='loan_status',palette=\"deep\")\n",
    "plt.show()"
   ]
  },
  {
   "cell_type": "markdown",
   "id": "231ab90b-91dd-412e-894b-017f3421b654",
   "metadata": {},
   "source": [
    "**Observation**\n",
    "\n",
    "-person with verified status who is having the salary range from 65K to 70K is likely to default"
   ]
  },
  {
   "cell_type": "markdown",
   "id": "c2dbab97-0422-4800-be30-63b2b9438c1f",
   "metadata": {},
   "source": [
    "**Loan amount vs employee lenght in year**"
   ]
  },
  {
   "cell_type": "code",
   "execution_count": 108,
   "id": "718734e7-8e1e-4348-a1ac-bbbcf253c1fe",
   "metadata": {},
   "outputs": [
    {
     "data": {
      "image/png": "[encoded data removed]",
      "text/plain": [
       "<Figure size 800x800 with 1 Axes>"
      ]
     },
     "metadata": {},
     "output_type": "display_data"
    }
   ],
   "source": [
    "plt.figure(figsize=(8,8))\n",
    "sns.barplot(data =cust_cleaned,x='loan_amnt', y='emp_length_years', hue ='loan_status',palette=\"deep\")\n",
    "plt.show()"
   ]
  },
  {
   "cell_type": "markdown",
   "id": "b9d881f6-17cd-407b-98ce-9e78c73a27e1",
   "metadata": {},
   "source": [
    "**Observation**\n",
    "\n",
    "- Employee with equal to or more than 10 years of experience has high amount of loan approved and they have charged off more "
   ]
  },
  {
   "cell_type": "markdown",
   "id": "04042b1e-9da7-45e4-a3cb-b2ec1e88b8c3",
   "metadata": {},
   "source": [
    "**MultiVariate analysis**"
   ]
  },
  {
   "cell_type": "code",
   "execution_count": 111,
   "id": "b64a82a6-d787-4ec2-8fac-71f6e1f56963",
   "metadata": {},
   "outputs": [],
   "source": [
    "# Creating Dataframe for select columns for which we need headmap\n",
    "corr_df = cust_cleaned[['loan_amnt','funded_amnt_inv','annual_inc', 'installment','emp_length_years','open_acc' ]]\n"
   ]
  },
  {
   "cell_type": "code",
   "execution_count": 112,
   "id": "19e3a4d3-fc1b-44e8-bb80-181047a03adb",
   "metadata": {},
   "outputs": [
    {
     "data": {
      "image/png": "[encoded data removed]",
      "text/plain": [
       "<Figure size 640x480 with 2 Axes>"
      ]
     },
     "metadata": {},
     "output_type": "display_data"
    }
   ],
   "source": [
    "#Heatmap Creation / Generation\n",
    "sns.heatmap(corr_df.corr(),annot=True, cmap='Greens')\n",
    "plt.title('Heatmap of the Loan Data set', size=15)\n",
    "plt.show()"
   ]
  },
  {
   "cell_type": "markdown",
   "id": "f3f94997-ad32-4981-9a82-7b59f44e7dcf",
   "metadata": {},
   "source": [
    "**Positive corelation between the loan amount, funded amount and the installment is seen**\n",
    "\n"
   ]
  }
 ],
 "metadata": {
  "kernelspec": {
   "display_name": "Python 3 (ipykernel)",
   "language": "python",
   "name": "python3"
  },
  "language_info": {
   "codemirror_mode": {
    "name": "ipython",
    "version": 3
   },
   "file_extension": ".py",
   "mimetype": "text/x-python",
   "name": "python",
   "nbconvert_exporter": "python",
   "pygments_lexer": "ipython3",
   "version": "3.12.4"
  }
 },
 "nbformat": 4,
 "nbformat_minor": 5
}
