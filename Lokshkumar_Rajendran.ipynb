{
 "cells": [
  {
   "cell_type": "code",
   "execution_count": 1,
   "id": "c0095bc2-4058-4750-b4f7-df3fec74bc74",
   "metadata": {},
   "outputs": [
    {
     "ename": "FileNotFoundError",
     "evalue": "[Errno 2] No such file or directory: 'D:/upgrad_projects/case_study_1/loan/loan.csv'",
     "output_type": "error",
     "traceback": [
      "\u001b[1;31m---------------------------------------------------------------------------\u001b[0m",
      "\u001b[1;31mFileNotFoundError\u001b[0m                         Traceback (most recent call last)",
      "Cell \u001b[1;32mIn[1], line 10\u001b[0m\n\u001b[0;32m      7\u001b[0m \u001b[38;5;28;01mimport\u001b[39;00m \u001b[38;5;21;01mmatplotlib\u001b[39;00m \u001b[38;5;28;01mas\u001b[39;00m \u001b[38;5;21;01mplt1\u001b[39;00m\n\u001b[0;32m      9\u001b[0m \u001b[38;5;66;03m#loading the data from the csv file\u001b[39;00m\n\u001b[1;32m---> 10\u001b[0m cust_data\u001b[38;5;241m=\u001b[39mpd\u001b[38;5;241m.\u001b[39mread_csv(\u001b[38;5;124m\"\u001b[39m\u001b[38;5;124mD:/upgrad_projects/case_study_1/loan/loan.csv\u001b[39m\u001b[38;5;124m\"\u001b[39m)\n\u001b[0;32m     11\u001b[0m cust_data\u001b[38;5;241m.\u001b[39minfo()\n",
      "File \u001b[1;32mD:\\upgrad\\Lib\\site-packages\\pandas\\io\\parsers\\readers.py:1026\u001b[0m, in \u001b[0;36mread_csv\u001b[1;34m(filepath_or_buffer, sep, delimiter, header, names, index_col, usecols, dtype, engine, converters, true_values, false_values, skipinitialspace, skiprows, skipfooter, nrows, na_values, keep_default_na, na_filter, verbose, skip_blank_lines, parse_dates, infer_datetime_format, keep_date_col, date_parser, date_format, dayfirst, cache_dates, iterator, chunksize, compression, thousands, decimal, lineterminator, quotechar, quoting, doublequote, escapechar, comment, encoding, encoding_errors, dialect, on_bad_lines, delim_whitespace, low_memory, memory_map, float_precision, storage_options, dtype_backend)\u001b[0m\n\u001b[0;32m   1013\u001b[0m kwds_defaults \u001b[38;5;241m=\u001b[39m _refine_defaults_read(\n\u001b[0;32m   1014\u001b[0m     dialect,\n\u001b[0;32m   1015\u001b[0m     delimiter,\n\u001b[1;32m   (...)\u001b[0m\n\u001b[0;32m   1022\u001b[0m     dtype_backend\u001b[38;5;241m=\u001b[39mdtype_backend,\n\u001b[0;32m   1023\u001b[0m )\n\u001b[0;32m   1024\u001b[0m kwds\u001b[38;5;241m.\u001b[39mupdate(kwds_defaults)\n\u001b[1;32m-> 1026\u001b[0m \u001b[38;5;28;01mreturn\u001b[39;00m _read(filepath_or_buffer, kwds)\n",
      "File \u001b[1;32mD:\\upgrad\\Lib\\site-packages\\pandas\\io\\parsers\\readers.py:620\u001b[0m, in \u001b[0;36m_read\u001b[1;34m(filepath_or_buffer, kwds)\u001b[0m\n\u001b[0;32m    617\u001b[0m _validate_names(kwds\u001b[38;5;241m.\u001b[39mget(\u001b[38;5;124m\"\u001b[39m\u001b[38;5;124mnames\u001b[39m\u001b[38;5;124m\"\u001b[39m, \u001b[38;5;28;01mNone\u001b[39;00m))\n\u001b[0;32m    619\u001b[0m \u001b[38;5;66;03m# Create the parser.\u001b[39;00m\n\u001b[1;32m--> 620\u001b[0m parser \u001b[38;5;241m=\u001b[39m TextFileReader(filepath_or_buffer, \u001b[38;5;241m*\u001b[39m\u001b[38;5;241m*\u001b[39mkwds)\n\u001b[0;32m    622\u001b[0m \u001b[38;5;28;01mif\u001b[39;00m chunksize \u001b[38;5;129;01mor\u001b[39;00m iterator:\n\u001b[0;32m    623\u001b[0m     \u001b[38;5;28;01mreturn\u001b[39;00m parser\n",
      "File \u001b[1;32mD:\\upgrad\\Lib\\site-packages\\pandas\\io\\parsers\\readers.py:1620\u001b[0m, in \u001b[0;36mTextFileReader.__init__\u001b[1;34m(self, f, engine, **kwds)\u001b[0m\n\u001b[0;32m   1617\u001b[0m     \u001b[38;5;28mself\u001b[39m\u001b[38;5;241m.\u001b[39moptions[\u001b[38;5;124m\"\u001b[39m\u001b[38;5;124mhas_index_names\u001b[39m\u001b[38;5;124m\"\u001b[39m] \u001b[38;5;241m=\u001b[39m kwds[\u001b[38;5;124m\"\u001b[39m\u001b[38;5;124mhas_index_names\u001b[39m\u001b[38;5;124m\"\u001b[39m]\n\u001b[0;32m   1619\u001b[0m \u001b[38;5;28mself\u001b[39m\u001b[38;5;241m.\u001b[39mhandles: IOHandles \u001b[38;5;241m|\u001b[39m \u001b[38;5;28;01mNone\u001b[39;00m \u001b[38;5;241m=\u001b[39m \u001b[38;5;28;01mNone\u001b[39;00m\n\u001b[1;32m-> 1620\u001b[0m \u001b[38;5;28mself\u001b[39m\u001b[38;5;241m.\u001b[39m_engine \u001b[38;5;241m=\u001b[39m \u001b[38;5;28mself\u001b[39m\u001b[38;5;241m.\u001b[39m_make_engine(f, \u001b[38;5;28mself\u001b[39m\u001b[38;5;241m.\u001b[39mengine)\n",
      "File \u001b[1;32mD:\\upgrad\\Lib\\site-packages\\pandas\\io\\parsers\\readers.py:1880\u001b[0m, in \u001b[0;36mTextFileReader._make_engine\u001b[1;34m(self, f, engine)\u001b[0m\n\u001b[0;32m   1878\u001b[0m     \u001b[38;5;28;01mif\u001b[39;00m \u001b[38;5;124m\"\u001b[39m\u001b[38;5;124mb\u001b[39m\u001b[38;5;124m\"\u001b[39m \u001b[38;5;129;01mnot\u001b[39;00m \u001b[38;5;129;01min\u001b[39;00m mode:\n\u001b[0;32m   1879\u001b[0m         mode \u001b[38;5;241m+\u001b[39m\u001b[38;5;241m=\u001b[39m \u001b[38;5;124m\"\u001b[39m\u001b[38;5;124mb\u001b[39m\u001b[38;5;124m\"\u001b[39m\n\u001b[1;32m-> 1880\u001b[0m \u001b[38;5;28mself\u001b[39m\u001b[38;5;241m.\u001b[39mhandles \u001b[38;5;241m=\u001b[39m get_handle(\n\u001b[0;32m   1881\u001b[0m     f,\n\u001b[0;32m   1882\u001b[0m     mode,\n\u001b[0;32m   1883\u001b[0m     encoding\u001b[38;5;241m=\u001b[39m\u001b[38;5;28mself\u001b[39m\u001b[38;5;241m.\u001b[39moptions\u001b[38;5;241m.\u001b[39mget(\u001b[38;5;124m\"\u001b[39m\u001b[38;5;124mencoding\u001b[39m\u001b[38;5;124m\"\u001b[39m, \u001b[38;5;28;01mNone\u001b[39;00m),\n\u001b[0;32m   1884\u001b[0m     compression\u001b[38;5;241m=\u001b[39m\u001b[38;5;28mself\u001b[39m\u001b[38;5;241m.\u001b[39moptions\u001b[38;5;241m.\u001b[39mget(\u001b[38;5;124m\"\u001b[39m\u001b[38;5;124mcompression\u001b[39m\u001b[38;5;124m\"\u001b[39m, \u001b[38;5;28;01mNone\u001b[39;00m),\n\u001b[0;32m   1885\u001b[0m     memory_map\u001b[38;5;241m=\u001b[39m\u001b[38;5;28mself\u001b[39m\u001b[38;5;241m.\u001b[39moptions\u001b[38;5;241m.\u001b[39mget(\u001b[38;5;124m\"\u001b[39m\u001b[38;5;124mmemory_map\u001b[39m\u001b[38;5;124m\"\u001b[39m, \u001b[38;5;28;01mFalse\u001b[39;00m),\n\u001b[0;32m   1886\u001b[0m     is_text\u001b[38;5;241m=\u001b[39mis_text,\n\u001b[0;32m   1887\u001b[0m     errors\u001b[38;5;241m=\u001b[39m\u001b[38;5;28mself\u001b[39m\u001b[38;5;241m.\u001b[39moptions\u001b[38;5;241m.\u001b[39mget(\u001b[38;5;124m\"\u001b[39m\u001b[38;5;124mencoding_errors\u001b[39m\u001b[38;5;124m\"\u001b[39m, \u001b[38;5;124m\"\u001b[39m\u001b[38;5;124mstrict\u001b[39m\u001b[38;5;124m\"\u001b[39m),\n\u001b[0;32m   1888\u001b[0m     storage_options\u001b[38;5;241m=\u001b[39m\u001b[38;5;28mself\u001b[39m\u001b[38;5;241m.\u001b[39moptions\u001b[38;5;241m.\u001b[39mget(\u001b[38;5;124m\"\u001b[39m\u001b[38;5;124mstorage_options\u001b[39m\u001b[38;5;124m\"\u001b[39m, \u001b[38;5;28;01mNone\u001b[39;00m),\n\u001b[0;32m   1889\u001b[0m )\n\u001b[0;32m   1890\u001b[0m \u001b[38;5;28;01massert\u001b[39;00m \u001b[38;5;28mself\u001b[39m\u001b[38;5;241m.\u001b[39mhandles \u001b[38;5;129;01mis\u001b[39;00m \u001b[38;5;129;01mnot\u001b[39;00m \u001b[38;5;28;01mNone\u001b[39;00m\n\u001b[0;32m   1891\u001b[0m f \u001b[38;5;241m=\u001b[39m \u001b[38;5;28mself\u001b[39m\u001b[38;5;241m.\u001b[39mhandles\u001b[38;5;241m.\u001b[39mhandle\n",
      "File \u001b[1;32mD:\\upgrad\\Lib\\site-packages\\pandas\\io\\common.py:873\u001b[0m, in \u001b[0;36mget_handle\u001b[1;34m(path_or_buf, mode, encoding, compression, memory_map, is_text, errors, storage_options)\u001b[0m\n\u001b[0;32m    868\u001b[0m \u001b[38;5;28;01melif\u001b[39;00m \u001b[38;5;28misinstance\u001b[39m(handle, \u001b[38;5;28mstr\u001b[39m):\n\u001b[0;32m    869\u001b[0m     \u001b[38;5;66;03m# Check whether the filename is to be opened in binary mode.\u001b[39;00m\n\u001b[0;32m    870\u001b[0m     \u001b[38;5;66;03m# Binary mode does not support 'encoding' and 'newline'.\u001b[39;00m\n\u001b[0;32m    871\u001b[0m     \u001b[38;5;28;01mif\u001b[39;00m ioargs\u001b[38;5;241m.\u001b[39mencoding \u001b[38;5;129;01mand\u001b[39;00m \u001b[38;5;124m\"\u001b[39m\u001b[38;5;124mb\u001b[39m\u001b[38;5;124m\"\u001b[39m \u001b[38;5;129;01mnot\u001b[39;00m \u001b[38;5;129;01min\u001b[39;00m ioargs\u001b[38;5;241m.\u001b[39mmode:\n\u001b[0;32m    872\u001b[0m         \u001b[38;5;66;03m# Encoding\u001b[39;00m\n\u001b[1;32m--> 873\u001b[0m         handle \u001b[38;5;241m=\u001b[39m \u001b[38;5;28mopen\u001b[39m(\n\u001b[0;32m    874\u001b[0m             handle,\n\u001b[0;32m    875\u001b[0m             ioargs\u001b[38;5;241m.\u001b[39mmode,\n\u001b[0;32m    876\u001b[0m             encoding\u001b[38;5;241m=\u001b[39mioargs\u001b[38;5;241m.\u001b[39mencoding,\n\u001b[0;32m    877\u001b[0m             errors\u001b[38;5;241m=\u001b[39merrors,\n\u001b[0;32m    878\u001b[0m             newline\u001b[38;5;241m=\u001b[39m\u001b[38;5;124m\"\u001b[39m\u001b[38;5;124m\"\u001b[39m,\n\u001b[0;32m    879\u001b[0m         )\n\u001b[0;32m    880\u001b[0m     \u001b[38;5;28;01melse\u001b[39;00m:\n\u001b[0;32m    881\u001b[0m         \u001b[38;5;66;03m# Binary mode\u001b[39;00m\n\u001b[0;32m    882\u001b[0m         handle \u001b[38;5;241m=\u001b[39m \u001b[38;5;28mopen\u001b[39m(handle, ioargs\u001b[38;5;241m.\u001b[39mmode)\n",
      "\u001b[1;31mFileNotFoundError\u001b[0m: [Errno 2] No such file or directory: 'D:/upgrad_projects/case_study_1/loan/loan.csv'"
     ]
    }
   ],
   "source": [
    "# importing the libraries \n",
    "\n",
    "import numpy as np\n",
    "import pandas as pd\n",
    "import seaborn as sns \n",
    "import matplotlib.pyplot as plt\n",
    "import matplotlib as plt1\n",
    "\n",
    "#loading the data from the csv file\n",
    "cust_data=pd.read_csv(\"loan.csv\")\n",
    "cust_data.info()"
   ]
  },
  {
   "cell_type": "markdown",
   "id": "88be1ada-7123-4f87-be71-8eda3bd8ebc8",
   "metadata": {},
   "source": [
    "**Listing the completely empty columns as this will be of no use in the analysis**"
   ]
  },
  {
   "cell_type": "code",
   "execution_count": null,
   "id": "e8e272ee-4cac-4e33-a183-5d555129ca23",
   "metadata": {},
   "outputs": [],
   "source": [
    "empty_columns=cust_data.columns[cust_data.isna().all()]\n",
    "empty_columns.size"
   ]
  },
  {
   "cell_type": "code",
   "execution_count": null,
   "id": "9c86996f-81b3-4bfd-bd4d-183ea3b4b446",
   "metadata": {},
   "outputs": [],
   "source": [
    "#removed the 54 columns which are completely empty \n",
    "cust_cleaned=cust_data.dropna(axis=1,how='all')\n",
    "cust_cleaned.info()"
   ]
  },
  {
   "cell_type": "markdown",
   "id": "27220d47-d148-42b0-99f7-2fc47bb2885e",
   "metadata": {},
   "source": [
    "**calculating the percentage of null values in the column, so that the column with higer percentage can be removed**"
   ]
  },
  {
   "cell_type": "code",
   "execution_count": null,
   "id": "0f2b889a-ea43-4b9b-8424-23b10814a925",
   "metadata": {},
   "outputs": [],
   "source": [
    "cust_cleaned.isna().mean()*100"
   ]
  },
  {
   "cell_type": "code",
   "execution_count": null,
   "id": "6fa0943b-7a54-4a58-8920-6bd15ffd566b",
   "metadata": {},
   "outputs": [],
   "source": [
    "#mths_since_last_delinq, mths_since_last_record ,next_pymnt_d   has more the 30% of values as null values so removing the columns\n",
    "\n",
    "cust_cleaned=cust_cleaned.drop(labels=[\"mths_since_last_delinq\",\"mths_since_last_record\",\"next_pymnt_d\",\"desc\"],axis=1);\n",
    "cust_cleaned.isna().mean()*100"
   ]
  },
  {
   "cell_type": "code",
   "execution_count": null,
   "id": "589664dd-0b3a-48f5-bbfc-90a90099e0d1",
   "metadata": {},
   "outputs": [],
   "source": [
    "cust_cleaned.info()"
   ]
  },
  {
   "cell_type": "code",
   "execution_count": null,
   "id": "84ad4c65-232e-4761-b910-df3464a8eb5a",
   "metadata": {},
   "outputs": [],
   "source": [
    "cust_cleaned.head()"
   ]
  },
  {
   "cell_type": "code",
   "execution_count": null,
   "id": "7acafc09-9bcd-4e6c-89d5-5fb1b9a77eb0",
   "metadata": {},
   "outputs": [],
   "source": [
    "# checking the unique values in the column\n",
    "cust_cleaned['loan_status'].unique()"
   ]
  },
  {
   "cell_type": "code",
   "execution_count": null,
   "id": "f0a1b7ca-6cc2-4fc6-a718-39a75e029512",
   "metadata": {},
   "outputs": [],
   "source": [
    "#removing the row with the loan status as current because we cannot determine anything with the loan which is in current status\n",
    "\n",
    "cust_cleaned=cust_cleaned[cust_cleaned['loan_status']!='Current']\n",
    "cust_cleaned['loan_status'].unique()"
   ]
  },
  {
   "cell_type": "code",
   "execution_count": null,
   "id": "cca12df2-03af-4d07-8789-6a6fe7eb07ec",
   "metadata": {},
   "outputs": [],
   "source": [
    "cust_cleaned.info()"
   ]
  },
  {
   "cell_type": "code",
   "execution_count": null,
   "id": "d682527e-fc2e-4978-a316-3b5b04c1ea62",
   "metadata": {},
   "outputs": [],
   "source": [
    "#Identify the columns with the unique values, and remove it as it will not be of any use in analysis \n",
    "unique_columns=cust_cleaned.columns[cust_cleaned.nunique(dropna=False)==len(cust_cleaned)]\n",
    "unique_columns"
   ]
  },
  {
   "cell_type": "code",
   "execution_count": null,
   "id": "7e93b921-f4b9-4031-b6c8-8096688c022a",
   "metadata": {},
   "outputs": [],
   "source": [
    "cust_cleaned=cust_cleaned.drop(labels=['id','member_id','url'],axis=1)"
   ]
  },
  {
   "cell_type": "code",
   "execution_count": null,
   "id": "60f5db59-14ed-45d4-9d69-ea4f86d2ef28",
   "metadata": {},
   "outputs": [],
   "source": [
    "#Removing the columns which is not needed for the analysis \n",
    "#Zip code only first 3 characters are visible \n",
    "#pymnt_plan column as it has sinle value n\n",
    "#application_type this column has only one value as INDIVIDUAL \n",
    "#policy_code column has single constant value 1\n",
    "#delinq_amnt column has single constant value 0\n",
    "#tax_liens column has single constant value 0.0 and nan\n",
    "#initial_list_status column has single constant value f\n",
    "#collections_12_mths_ex_med column has single constant value 0.0 and nan\n",
    "#acc_now_delinq' column has single constant value 0\n",
    "#chargeoff_within_12_mths column has  a single constant value 0.0 and nan\n",
    "\n",
    "\n",
    "print(cust_cleaned['zip_code'].unique())\n",
    "print(cust_cleaned['pymnt_plan'].unique())\n",
    "print(cust_cleaned['application_type'].unique())\n",
    "print(cust_cleaned['policy_code'].unique())\n",
    "print(cust_cleaned['delinq_amnt'].unique())\n",
    "print(cust_cleaned['tax_liens'].unique())\n",
    "print(cust_cleaned['initial_list_status'].unique())\n",
    "print(cust_cleaned['collections_12_mths_ex_med'].unique())\n",
    "print(cust_cleaned['acc_now_delinq'].unique())\n",
    "print(cust_cleaned['chargeoff_within_12_mths'].unique())\n"
   ]
  },
  {
   "cell_type": "code",
   "execution_count": null,
   "id": "233dcf3d-c4e8-4ef8-a7f4-0bf163e7969d",
   "metadata": {},
   "outputs": [],
   "source": [
    "cust_cleaned=cust_cleaned.drop(labels=['pymnt_plan','application_type','policy_code','delinq_amnt','tax_liens','initial_list_status','collections_12_mths_ex_med','acc_now_delinq','chargeoff_within_12_mths'],axis=1)\n",
    "cust_cleaned.info();"
   ]
  },
  {
   "cell_type": "code",
   "execution_count": null,
   "id": "eb958fe1-ed37-4c97-b0d4-64287c59c3f0",
   "metadata": {},
   "outputs": [],
   "source": [
    "#recoveries column has 90% of the values as 0\n",
    "#collection_recovery_fee has most of the values as 0\n",
    "#total_rec_late_fee has most of the values as 0\n",
    "print(cust_cleaned['recoveries'].value_counts(normalize=True)*100)\n",
    "print(cust_cleaned['collection_recovery_fee'].value_counts(normalize=True)*100)\n",
    "print(cust_cleaned['total_rec_late_fee'].value_counts(normalize=True)*100)"
   ]
  },
  {
   "cell_type": "code",
   "execution_count": null,
   "id": "1c1374ce-aa1b-4f7a-a037-3409dbe38f8c",
   "metadata": {},
   "outputs": [],
   "source": [
    "cust_cleaned=cust_cleaned.drop(labels=['recoveries','collection_recovery_fee','total_rec_late_fee','emp_title'],axis=1)\n",
    "cust_cleaned.info()"
   ]
  },
  {
   "cell_type": "code",
   "execution_count": null,
   "id": "8c9f08f6-797f-457f-8f7d-a3b4c5f55503",
   "metadata": {},
   "outputs": [],
   "source": [
    "#checking the column with null values \n",
    "cust_cleaned.isna().mean()*100"
   ]
  },
  {
   "cell_type": "code",
   "execution_count": null,
   "id": "5aaa4804-bfee-4ef2-b40a-230442ee7770",
   "metadata": {},
   "outputs": [],
   "source": [
    "#checking percentage of the purpose for which the loan is availed \n",
    "cust_cleaned.purpose.value_counts()*100/len(cust_cleaned)"
   ]
  },
  {
   "cell_type": "markdown",
   "id": "ca6de085-6d4b-44b6-971b-06ef6e199e27",
   "metadata": {},
   "source": [
    "**Removing the months from the term column to make it a numerical column**"
   ]
  },
  {
   "cell_type": "code",
   "execution_count": null,
   "id": "1e21b7a1-02ae-491a-bdda-adf8e7a84a28",
   "metadata": {},
   "outputs": [],
   "source": [
    "#removing months from the term column\n",
    "\n",
    "cust_cleaned[\"term\"]=cust_cleaned[\"term\"].apply(lambda x : x.replace('months',''))\n",
    "cust_cleaned[\"term\"]=cust_cleaned[\"term\"].astype(int)"
   ]
  },
  {
   "cell_type": "code",
   "execution_count": null,
   "id": "7f6d7dc7-3e19-4e35-a418-864ed1b4e11f",
   "metadata": {},
   "outputs": [],
   "source": [
    "# converting int_rate , removing the % symbol\n",
    "\n",
    "cust_cleaned['int_rate']=cust_cleaned['int_rate'].apply(lambda x :x.replace('%',''))\n"
   ]
  },
  {
   "cell_type": "code",
   "execution_count": null,
   "id": "852223d0-6668-4c77-bcfb-287c8443d4ae",
   "metadata": {},
   "outputs": [],
   "source": [
    "cust_cleaned['int_rate']=cust_cleaned['int_rate'].astype(float)\n",
    "\n"
   ]
  },
  {
   "cell_type": "code",
   "execution_count": null,
   "id": "d23a0a84-2ca7-422b-af2f-cd544439adc2",
   "metadata": {},
   "outputs": [],
   "source": [
    "cust_cleaned.info()"
   ]
  },
  {
   "cell_type": "code",
   "execution_count": null,
   "id": "c439a7a1-7715-4a98-b488-7c6a0656b171",
   "metadata": {},
   "outputs": [],
   "source": [
    "cust_cleaned.isnull().sum()"
   ]
  },
  {
   "cell_type": "markdown",
   "id": "695c5588-cb9f-4291-af19-ea48da081315",
   "metadata": {},
   "source": [
    "**The title column has the complete random values, so this column can be dropped and the purpose column can be considered for analysis**"
   ]
  },
  {
   "cell_type": "code",
   "execution_count": null,
   "id": "ce0313b6-12ce-4f77-aae5-5a0698a4d689",
   "metadata": {
    "scrolled": true
   },
   "outputs": [],
   "source": [
    "#deleting the title column having random values, purpose column can be considered \n",
    "cust_cleaned=cust_cleaned.drop(['title'],axis=1)\n"
   ]
  },
  {
   "cell_type": "code",
   "execution_count": null,
   "id": "738da849-bee4-4630-850e-67b869e0ad77",
   "metadata": {},
   "outputs": [],
   "source": [
    "cust_cleaned['emp_length_years']=cust_cleaned['emp_length'].str.rstrip('years ')\n",
    "cust_cleaned['emp_length_years']=cust_cleaned['emp_length_years'].replace('10+','10')\n",
    "cust_cleaned['emp_length_years']=cust_cleaned['emp_length_years'].replace('< 1','0.9')\n",
    "cust_cleaned"
   ]
  },
  {
   "cell_type": "code",
   "execution_count": null,
   "id": "1c806c2f-40f8-420b-bdb3-24f78b62b601",
   "metadata": {},
   "outputs": [],
   "source": [
    "#analysing pub_rec_bankruptcies column\n",
    "cust_cleaned['pub_rec_bankruptcies'].isnull().sum()"
   ]
  },
  {
   "cell_type": "code",
   "execution_count": null,
   "id": "161af80d-8b20-4a67-bece-28e98eaaae1b",
   "metadata": {},
   "outputs": [],
   "source": [
    "# as null and 0 means the same filling the null values with 0 \n",
    "cust_cleaned['pub_rec_bankruptcies']=cust_cleaned['pub_rec_bankruptcies'].fillna(0)"
   ]
  },
  {
   "cell_type": "code",
   "execution_count": null,
   "id": "c344622c-2dbb-4757-bccb-989e6023a469",
   "metadata": {},
   "outputs": [],
   "source": [
    "cust_cleaned['pub_rec_bankruptcies'].dtypes"
   ]
  },
  {
   "cell_type": "code",
   "execution_count": null,
   "id": "9f53a2db-e025-4801-aa01-b89efd56f412",
   "metadata": {},
   "outputs": [],
   "source": [
    "cust_cleaned.isnull().sum()*100/len(cust_cleaned)"
   ]
  },
  {
   "cell_type": "code",
   "execution_count": null,
   "id": "ea306305-2f77-4395-9edf-97ccd71905be",
   "metadata": {},
   "outputs": [],
   "source": [
    "cust_cleaned['emp_length_years'].isnull().sum()"
   ]
  },
  {
   "cell_type": "code",
   "execution_count": null,
   "id": "3283c5b7-eec4-4ecc-a1c2-5b3d44f09961",
   "metadata": {},
   "outputs": [],
   "source": [
    "# emp_length_years null means the employee has 0 years, so populating with the default value of 0\n",
    "cust_cleaned['emp_length_years']=cust_cleaned['emp_length_years'].fillna(0)\n"
   ]
  },
  {
   "cell_type": "code",
   "execution_count": null,
   "id": "2b869c18-0ca0-4719-9252-806cea55b65e",
   "metadata": {},
   "outputs": [],
   "source": [
    "# checking revol_util column for the null values\n",
    "cust_cleaned['revol_util'].isnull().sum()"
   ]
  },
  {
   "cell_type": "code",
   "execution_count": null,
   "id": "a5e718d7-192a-4362-8429-17cf0718c990",
   "metadata": {},
   "outputs": [],
   "source": [
    "cust_cleaned['revol_util']=cust_cleaned['revol_util'].apply(lambda x: str(x).replace('%',''))\n"
   ]
  },
  {
   "cell_type": "code",
   "execution_count": null,
   "id": "ca4bfe52-9c69-4467-8fcd-500754af3e92",
   "metadata": {},
   "outputs": [],
   "source": [
    "cust_cleaned['revol_util']=cust_cleaned['revol_util'].astype(float)"
   ]
  },
  {
   "cell_type": "code",
   "execution_count": null,
   "id": "57b1f565-7a5d-4cd9-a713-6ac745d06550",
   "metadata": {},
   "outputs": [],
   "source": [
    "cust_cleaned['revol_util'].describe()"
   ]
  },
  {
   "cell_type": "code",
   "execution_count": null,
   "id": "d8d7c7ca-80aa-4933-b11f-232bc3abd7ae",
   "metadata": {},
   "outputs": [],
   "source": [
    "cust_cleaned[\"revol_util\"]=cust_cleaned[\"revol_util\"].fillna(cust_cleaned[\"revol_util\"].quantile(0.5))"
   ]
  },
  {
   "cell_type": "code",
   "execution_count": null,
   "id": "e5474880-2da7-46d2-9caa-e5d68d313ffb",
   "metadata": {},
   "outputs": [],
   "source": [
    "# only few columns are present with null values so removing those columns \n",
    "cust_cleaned[\"last_credit_pull_d\"].isnull().sum()\n",
    "cust_cleaned[\"last_pymnt_d\"].isnull().sum()\n",
    " "
   ]
  },
  {
   "cell_type": "code",
   "execution_count": null,
   "id": "893f4e20-0158-48c2-a0a7-78e47cc5bb90",
   "metadata": {},
   "outputs": [],
   "source": [
    "cust_cleaned=cust_cleaned[~cust_cleaned[\"last_credit_pull_d\"].isnull()]\n",
    "cust_cleaned=cust_cleaned[~cust_cleaned[\"last_pymnt_d\"].isnull()]"
   ]
  },
  {
   "cell_type": "code",
   "execution_count": null,
   "id": "23117bde-31bf-4caa-9e39-021b83aa642a",
   "metadata": {},
   "outputs": [],
   "source": [
    "#checking percentage of null values again\n",
    "cust_cleaned.isnull().sum()*100/len(cust_cleaned)"
   ]
  },
  {
   "cell_type": "code",
   "execution_count": null,
   "id": "e4b301ca-6770-43cb-bd14-6435ce92288d",
   "metadata": {},
   "outputs": [],
   "source": [
    "# removing employee length column as its been converted to emp_length_years column\n",
    "cust_cleaned=cust_cleaned.drop(labels=['emp_length'],axis=1)\n"
   ]
  },
  {
   "cell_type": "code",
   "execution_count": null,
   "id": "43aa15b1-705b-48b9-b465-848d6a61a53b",
   "metadata": {},
   "outputs": [],
   "source": [
    "#checking % of loan status wise \n",
    "cust_cleaned.loan_status.value_counts()*100/len(cust_cleaned)\n",
    "\n",
    "\n"
   ]
  },
  {
   "cell_type": "markdown",
   "id": "5250d943-ef9c-4a30-9130-2d8f61fa357f",
   "metadata": {},
   "source": [
    "**Approx 85% of loans are fully paid**\n",
    "\n",
    "**Approx 14% of loans are defaulters** "
   ]
  },
  {
   "cell_type": "markdown",
   "id": "4e3560c9-d846-4a40-b25a-589e99f2727b",
   "metadata": {},
   "source": [
    "**performing sanity check on funded amount**"
   ]
  },
  {
   "cell_type": "code",
   "execution_count": null,
   "id": "f42bf6e4-dd6e-43a2-8e84-49c2cf4549de",
   "metadata": {},
   "outputs": [],
   "source": [
    "# performing sanity check on funded amount \n",
    "# as the funded amount cannot be more than the loan amount \n",
    "cust_cleaned[cust_cleaned[\"funded_amnt\"] > cust_cleaned [\"loan_amnt\"]]"
   ]
  },
  {
   "cell_type": "code",
   "execution_count": null,
   "id": "43d37ebb-5c36-427e-85ac-4ce6e7a04fcf",
   "metadata": {},
   "outputs": [],
   "source": [
    "#Check percentage of the Purpose for which the loans have been availed.\n",
    "(cust_cleaned.purpose.value_counts()*100)/len(cust_cleaned)"
   ]
  },
  {
   "cell_type": "markdown",
   "id": "1ffd6504-fc79-4477-85b2-ae974faa5556",
   "metadata": {},
   "source": [
    "**Need to check outliers in numerical columns. Categorical variables represent distinct categories or groups, and the concept of outliers doesn't apply directly to them**"
   ]
  },
  {
   "cell_type": "code",
   "execution_count": null,
   "id": "3dfec9fd-5ac8-42b7-8910-2b4f218a303d",
   "metadata": {},
   "outputs": [],
   "source": [
    "# checking on the outliners in annual income ,as annual income can vary between the users \n",
    "sns.boxplot(cust_cleaned['annual_inc'])"
   ]
  },
  {
   "cell_type": "markdown",
   "id": "70c239ea-b59d-4d18-b232-7a0b3833ad9d",
   "metadata": {},
   "source": [
    "**This Clearly indicates the presence of the outlierns**\n",
    "- The max value is 6M ,lets check on the percentiles of 0.95 and 0.99 before making the decision \n",
    "\n"
   ]
  },
  {
   "cell_type": "code",
   "execution_count": null,
   "id": "52428f85-08c0-4494-bb8f-222117a0f91f",
   "metadata": {},
   "outputs": [],
   "source": [
    "# checking the percentile for annual_inc\n",
    "cust_cleaned.annual_inc.describe(percentiles=[0.05,0.1,0.25,0.5,0.75,0.9,0.95,0.99])"
   ]
  },
  {
   "cell_type": "markdown",
   "id": "d95210bf-f93d-4511-862f-e0426e2caa62",
   "metadata": {},
   "source": [
    "**The value after 95% seems to be disconnected**\n",
    "- so removing the values after the 95%"
   ]
  },
  {
   "cell_type": "code",
   "execution_count": null,
   "id": "f9fb11b4-f47c-469a-9bd1-1f340498791e",
   "metadata": {},
   "outputs": [],
   "source": [
    "annual_income_95=cust_cleaned['annual_inc'].quantile(0.95)\n",
    "cust_cleaned=cust_cleaned[cust_cleaned.annual_inc <= annual_income_95]"
   ]
  },
  {
   "cell_type": "code",
   "execution_count": null,
   "id": "375256e5-9c0c-4702-a25b-eb371103619d",
   "metadata": {},
   "outputs": [],
   "source": [
    "sns.boxplot(cust_cleaned['annual_inc'])"
   ]
  },
  {
   "cell_type": "markdown",
   "id": "1c6647e0-813a-49be-8918-5a8ad69714ac",
   "metadata": {},
   "source": [
    "**The annual income data is good without any outliners**\n",
    "- moving to next numerical column\n",
    "- checking the dti , loan amount, funded_amnt_inv columns "
   ]
  },
  {
   "cell_type": "code",
   "execution_count": null,
   "id": "34e76efa-9fbe-48f4-a9fc-7eaf8291dd2d",
   "metadata": {},
   "outputs": [],
   "source": [
    "sns.boxplot(cust_cleaned.dti)"
   ]
  },
  {
   "cell_type": "code",
   "execution_count": null,
   "id": "7cfdc8c8-a222-4940-9464-2121bab8afb2",
   "metadata": {},
   "outputs": [],
   "source": [
    "sns.boxplot(cust_cleaned.loan_amnt)"
   ]
  },
  {
   "cell_type": "code",
   "execution_count": null,
   "id": "2253fad2-2121-474b-b28c-5c707fe4febc",
   "metadata": {},
   "outputs": [],
   "source": [
    "cust_cleaned.loan_amnt.quantile([0.75,0.90,0.95,0.97,0.975, 0.98, 0.99, 1.0])"
   ]
  },
  {
   "cell_type": "code",
   "execution_count": null,
   "id": "de34bdd5-2547-4c9e-83ba-4b61c69b26c6",
   "metadata": {},
   "outputs": [],
   "source": [
    "sns.boxplot(cust_cleaned.funded_amnt_inv)"
   ]
  },
  {
   "cell_type": "code",
   "execution_count": null,
   "id": "332bf0b5-76ff-46fc-9959-fb3885f66269",
   "metadata": {},
   "outputs": [],
   "source": [
    "cust_cleaned.funded_amnt_inv.quantile([0.5,0.75,0.90,0.95,0.97,0.98,0.99])"
   ]
  },
  {
   "cell_type": "markdown",
   "id": "b3db5117-818c-4c4b-b750-3982ccde50c8",
   "metadata": {},
   "source": [
    "- there difference in some values but the distrubution is continous "
   ]
  },
  {
   "cell_type": "markdown",
   "id": "1b19274f-f119-42bc-adef-4bb02e80624b",
   "metadata": {},
   "source": [
    "**Segmented Univariate Analysis**\n",
    "\n",
    "- we already have the grade column will analyse the subgrade column \n",
    "\n",
    "\n"
   ]
  },
  {
   "cell_type": "code",
   "execution_count": null,
   "id": "041a177f-ad61-4066-9601-afb0067e8a06",
   "metadata": {},
   "outputs": [],
   "source": [
    "cust_cleaned.sub_grade=pd.to_numeric(cust_cleaned.sub_grade.apply(lambda x: x[-1]))\n",
    "cust_cleaned.sub_grade.head()"
   ]
  },
  {
   "cell_type": "code",
   "execution_count": null,
   "id": "7bc19e65-9815-450f-aaf2-4d13e7287eea",
   "metadata": {},
   "outputs": [],
   "source": [
    "fig,ax=plt.subplots(figsize=(12,7))\n",
    "sns.countplot(x='grade',order =['A','B','C','D','E','F','G'], hue='sub_grade',data=cust_cleaned[cust_cleaned.loan_status=='Charged Off'])"
   ]
  },
  {
   "cell_type": "code",
   "execution_count": null,
   "id": "d0bb15c9-d247-4e55-af92-f3169c7f59aa",
   "metadata": {},
   "outputs": [],
   "source": [
    "sns.countplot(x='grade',data=cust_cleaned[cust_cleaned.loan_status=='Charged Off'],order=['A','B','C','D','E','F','G'])"
   ]
  },
  {
   "cell_type": "markdown",
   "id": "8729e39e-81c1-440a-946f-2101f97e519d",
   "metadata": {},
   "source": [
    "**Checking home ownership**"
   ]
  },
  {
   "cell_type": "code",
   "execution_count": null,
   "id": "79d75813-461f-4dbb-b71d-26b778d10eff",
   "metadata": {},
   "outputs": [],
   "source": [
    "cust_cleaned['home_ownership'].unique()"
   ]
  },
  {
   "cell_type": "code",
   "execution_count": null,
   "id": "3f230250-0037-4873-96ec-56432ffd6c17",
   "metadata": {},
   "outputs": [],
   "source": [
    "cust_cleaned['home_ownership'].value_counts()"
   ]
  },
  {
   "cell_type": "code",
   "execution_count": null,
   "id": "539a268f-cb54-4708-93d4-cbb1803524be",
   "metadata": {},
   "outputs": [],
   "source": [
    "#only three NONE values are persent replacing the NONE values with Other\n",
    "cust_cleaned['home_ownership'].replace(to_replace = ['NONE'],value='OTHER',inplace = True)"
   ]
  },
  {
   "cell_type": "code",
   "execution_count": null,
   "id": "d6b894bc-8911-47c8-8681-f81750b7853b",
   "metadata": {},
   "outputs": [],
   "source": [
    "cust_cleaned['home_ownership'].value_counts()"
   ]
  },
  {
   "cell_type": "code",
   "execution_count": null,
   "id": "d1315e19-3adc-4102-bff5-1fdeb56503ac",
   "metadata": {},
   "outputs": [],
   "source": [
    "fig,ax=plt.subplots(figsize=(6,4))\n",
    "sns.countplot(x='home_ownership', data=cust_cleaned[cust_cleaned['loan_status']=='Charged Off'])"
   ]
  },
  {
   "cell_type": "markdown",
   "id": "e85df426-527f-4bdf-a613-cc5c4956ce85",
   "metadata": {},
   "source": [
    "**Analysing the purpose column**"
   ]
  },
  {
   "cell_type": "code",
   "execution_count": null,
   "id": "2efa4b7a-e910-4a66-8a1d-738f5541f85a",
   "metadata": {},
   "outputs": [],
   "source": [
    "fig,ax=plt.subplots(figsize=(12,8))\n",
    "sns.countplot(y='purpose',data=cust_cleaned[cust_cleaned.loan_status=='Charged Off'])"
   ]
  },
  {
   "cell_type": "markdown",
   "id": "4c17f57a-1b06-49ac-b52d-a58f12e0c6a2",
   "metadata": {},
   "source": [
    "**Analysing the employee length column**"
   ]
  },
  {
   "cell_type": "code",
   "execution_count": null,
   "id": "2acf2367-3705-4fb2-865f-61bb67c35efe",
   "metadata": {},
   "outputs": [],
   "source": [
    "fig, ax = plt.subplots(figsize = (15,10))\n",
    "sns.countplot(x='emp_length_years', data=cust_cleaned[cust_cleaned.loan_status == 'Charged Off'],order=['0.9','1','2','3','4','5','6','7','8','9','10'])"
   ]
  },
  {
   "cell_type": "markdown",
   "id": "eba088a6-cef3-423e-94ec-800137d2ec59",
   "metadata": {},
   "source": [
    "**creating bins for int_rate for numerical variable to make it a categorial one**"
   ]
  },
  {
   "cell_type": "code",
   "execution_count": null,
   "id": "2c4ffc3f-f76f-4f30-bf93-0b7e6b46c818",
   "metadata": {},
   "outputs": [],
   "source": [
    "cust_cleaned['int_rate_groups'] = pd.cut(cust_cleaned['int_rate'], bins=5,precision =0,labels=['5%-9%','9%-15%','15%-17%','17%-21%','21%-24%'])"
   ]
  },
  {
   "cell_type": "code",
   "execution_count": null,
   "id": "cc513634-581f-498b-87be-6f5c1e984ff5",
   "metadata": {},
   "outputs": [],
   "source": [
    "cust_cleaned['int_rate_groups'] .value_counts()"
   ]
  },
  {
   "cell_type": "code",
   "execution_count": null,
   "id": "91ed0a13-7e5a-4c36-afad-8a75d387a479",
   "metadata": {},
   "outputs": [],
   "source": [
    "fig, ax = plt.subplots(figsize = (15,10))\n",
    "sns.countplot(x='int_rate_groups', data=cust_cleaned[cust_cleaned.loan_status == 'Charged Off'])"
   ]
  },
  {
   "cell_type": "markdown",
   "id": "6b1f6553-6bf6-4cc7-987e-1985fb4efcdb",
   "metadata": {},
   "source": [
    "**creating bins for total_acc column as having the lot of credit line might impact the barrowers repayment capacity**"
   ]
  },
  {
   "cell_type": "code",
   "execution_count": null,
   "id": "29d0c64a-14ad-4bd1-b52c-c0d409d80c96",
   "metadata": {},
   "outputs": [],
   "source": [
    "cust_cleaned['total_acc_groups'] = pd.cut(cust_cleaned['total_acc'], bins=5,precision =0,labels=['2-19','19-37','37-55','55-74','74-90'])\n"
   ]
  },
  {
   "cell_type": "code",
   "execution_count": null,
   "id": "745fe14e-fb85-42b8-b089-41133ef2fcc1",
   "metadata": {},
   "outputs": [],
   "source": [
    "\n",
    "fig, ax = plt.subplots(figsize = (8,6))\n",
    "sns.countplot(x='total_acc_groups', data=cust_cleaned[cust_cleaned.loan_status == 'Charged Off'])"
   ]
  },
  {
   "cell_type": "code",
   "execution_count": null,
   "id": "5da49b64-d0e6-4e0b-8b26-9097981c6f7b",
   "metadata": {},
   "outputs": [],
   "source": [
    "sns.countplot(y='term', data=cust_cleaned[cust_cleaned['loan_status']=='Charged Off'])"
   ]
  },
  {
   "cell_type": "markdown",
   "id": "2c46f3f1-08e3-4c86-bb06-f2e3d2343502",
   "metadata": {},
   "source": [
    "**Analysing total income**"
   ]
  },
  {
   "cell_type": "code",
   "execution_count": null,
   "id": "3bfccf5c-e018-4194-92c7-0490b879370b",
   "metadata": {},
   "outputs": [],
   "source": [
    "cust_cleaned['annual_income_groups'] = pd.cut(cust_cleaned['annual_inc'], bins=5,precision =0,labels =['3k-30k','30k-57k','57k-84k','84k-111k','111k-139k'])"
   ]
  },
  {
   "cell_type": "code",
   "execution_count": null,
   "id": "975b4528-0941-4378-8769-2ac65aca981d",
   "metadata": {},
   "outputs": [],
   "source": [
    "fig, ax = plt.subplots(figsize = (10,6))\n",
    "sns.countplot(x='annual_income_groups', data=cust_cleaned[cust_cleaned.loan_status == 'Charged Off'])"
   ]
  },
  {
   "cell_type": "markdown",
   "id": "2383f3f2-e9f4-44a0-b7d1-77371c42f28b",
   "metadata": {},
   "source": [
    "**Analysing open account groups**"
   ]
  },
  {
   "cell_type": "code",
   "execution_count": null,
   "id": "37a1ca37-e9f9-442b-b051-3f1e6cc7f7f3",
   "metadata": {},
   "outputs": [],
   "source": [
    "cust_cleaned['open_acc_groups'] = pd.cut(cust_cleaned['open_acc'],bins = 5,precision =0,labels=['2-9','9-18','18-26','26-35','35-43'])"
   ]
  },
  {
   "cell_type": "code",
   "execution_count": null,
   "id": "83f040ea-ee32-4ee2-a306-3db7e52134d3",
   "metadata": {},
   "outputs": [],
   "source": [
    "fig, ax = plt.subplots(figsize = (7,5))\n",
    "sns.countplot(x='open_acc_groups', data=cust_cleaned[cust_cleaned.loan_status == 'Charged Off'])"
   ]
  },
  {
   "cell_type": "code",
   "execution_count": null,
   "id": "ed6faad6-38a4-434a-86ed-aeec6798cc19",
   "metadata": {},
   "outputs": [],
   "source": [
    "fig, ax = plt.subplots(figsize = (7,5))\n",
    "sns.countplot(x='addr_state', data=cust_cleaned[cust_cleaned.loan_status == 'Charged Off'])\n",
    "plt.xticks(rotation=90)\n",
    "plt.xlabel('State')\n",
    "plt.show()"
   ]
  },
  {
   "cell_type": "markdown",
   "id": "82c1f960-973b-4139-867f-a964ece4ca8c",
   "metadata": {},
   "source": [
    "**Analyzing loan amount groups**"
   ]
  },
  {
   "cell_type": "code",
   "execution_count": null,
   "id": "523c1de0-9073-4cd4-aaba-03adcefbc444",
   "metadata": {},
   "outputs": [],
   "source": [
    "cust_cleaned['loan_amount_groups'] = pd.cut(cust_cleaned['loan_amnt'], bins=7,precision =0,labels=['0-8k','8k-13k','13k-18k','18k-23k','23k-28k','28k-33k','33k-38k'])"
   ]
  },
  {
   "cell_type": "code",
   "execution_count": null,
   "id": "e7f37f7a-ecba-4576-b9b4-63e0a2185ac9",
   "metadata": {},
   "outputs": [],
   "source": [
    "fig,ax = plt.subplots(figsize = (12,5))\n",
    "sns.countplot(x='loan_amount_groups', data=cust_cleaned[cust_cleaned['loan_status']=='Charged Off'])"
   ]
  },
  {
   "cell_type": "markdown",
   "id": "2cba8c2c-d8aa-46c4-8946-639885fe1853",
   "metadata": {},
   "source": [
    "**Observations**\n",
    "**From the above charts below inferences can be made**\n",
    "**The person is more likely to default if he falls under below category's**\n",
    "- The people with Grade B and particualry of grade B5\n",
    "- The person who is in rent has defaulted more, may be because of more rental commitments\n",
    "- The person with the purpose of debt consolidation has defaulted more when compared to others\n",
    "- The employee's with equal to or more than 10 years of experience might default\n",
    "- The loans with interest percent of 15%-17% has defaulted more , should consider giving the loan with less interest rate\n",
    "- when the total account is between 2 and 19\n",
    "- Person having 36 months as tenure is defaulting when compared to 60 months tenure\n",
    "- Persons with annual income of 30K-57K is defaulting more\n",
    "- Having 2 to 9 open account increases the changes of defaulting\n",
    "- persons with the loan amount of 8K to 13K has defaulted more\n",
    "- person from CA state has defaulted more"
   ]
  },
  {
   "cell_type": "markdown",
   "id": "d2734ed9-6544-4627-946b-28fb80c63900",
   "metadata": {},
   "source": [
    "**Bivariate Analysis**\n",
    "\n",
    "-Analysing annual income numerical column with other columns"
   ]
  },
  {
   "cell_type": "markdown",
   "id": "53b7333d-ce5f-4d18-9fa1-7992e143b800",
   "metadata": {},
   "source": [
    "**Annual income vs home_ownership**"
   ]
  },
  {
   "cell_type": "code",
   "execution_count": null,
   "id": "cbc9a50e-64fe-4740-8281-f0919245902a",
   "metadata": {},
   "outputs": [],
   "source": [
    "#comparing annual income with home ownership\n",
    "plt.figure(figsize=(8,8))\n",
    "sns.barplot(data =cust_cleaned,x='annual_inc', y='home_ownership', hue ='loan_status',palette=\"deep\" )\n",
    "plt.show()"
   ]
  },
  {
   "cell_type": "markdown",
   "id": "eb79547e-98d2-4ef7-92ab-28a2eda61d05",
   "metadata": {},
   "source": [
    "**Observations**\n",
    "- Persons with Mortage having the annual income of 60k to 70k has more possibility of defaulting"
   ]
  },
  {
   "cell_type": "markdown",
   "id": "3c604c88-962a-43f0-95ca-a082d38d3ea3",
   "metadata": {},
   "source": [
    "**Annual income vs loan purpose**"
   ]
  },
  {
   "cell_type": "code",
   "execution_count": null,
   "id": "6e897a34-a643-442c-b1af-0fb9c65083bd",
   "metadata": {},
   "outputs": [],
   "source": [
    "plt.figure(figsize=(8,8))\n",
    "sns.barplot(data =cust_cleaned,x='annual_inc', y='purpose', hue ='loan_status',palette=\"deep\")\n",
    "plt.show()"
   ]
  },
  {
   "cell_type": "markdown",
   "id": "1725f01d-6a95-4575-8430-90b9ef2da155",
   "metadata": {},
   "source": [
    "**observation**\n",
    "- person who is taking loan for home improvement and if he has salary of 60k to 70k then he is likely to default"
   ]
  },
  {
   "cell_type": "markdown",
   "id": "6901e7a9-24e0-4301-bad9-aa8b1ca9df2c",
   "metadata": {},
   "source": [
    "**Annual income vs verification status**"
   ]
  },
  {
   "cell_type": "code",
   "execution_count": null,
   "id": "8a327658-fc57-43d6-8132-38f265e90c76",
   "metadata": {},
   "outputs": [],
   "source": [
    "plt.figure(figsize=(8,8))\n",
    "sns.barplot(data =cust_cleaned,x='annual_inc', y='verification_status', hue ='loan_status',palette=\"deep\")\n",
    "plt.show()"
   ]
  },
  {
   "cell_type": "markdown",
   "id": "231ab90b-91dd-412e-894b-017f3421b654",
   "metadata": {},
   "source": [
    "**Observation**\n",
    "\n",
    "-person with verified status who is having the salary range from 65K to 70K is likely to default"
   ]
  },
  {
   "cell_type": "markdown",
   "id": "c2dbab97-0422-4800-be30-63b2b9438c1f",
   "metadata": {},
   "source": [
    "**Loan amount vs employee lenght in year**"
   ]
  },
  {
   "cell_type": "code",
   "execution_count": null,
   "id": "718734e7-8e1e-4348-a1ac-bbbcf253c1fe",
   "metadata": {},
   "outputs": [],
   "source": [
    "plt.figure(figsize=(8,8))\n",
    "sns.barplot(data =cust_cleaned,x='loan_amnt', y='emp_length_years', hue ='loan_status',palette=\"deep\")\n",
    "plt.show()"
   ]
  },
  {
   "cell_type": "markdown",
   "id": "b9d881f6-17cd-407b-98ce-9e78c73a27e1",
   "metadata": {},
   "source": [
    "**Observation**\n",
    "\n",
    "- Employee with equal to or more than 10 years of experience has high amount of loan approved and they have charged off more "
   ]
  },
  {
   "cell_type": "markdown",
   "id": "04042b1e-9da7-45e4-a3cb-b2ec1e88b8c3",
   "metadata": {},
   "source": [
    "**MultiVariate analysis**"
   ]
  },
  {
   "cell_type": "code",
   "execution_count": null,
   "id": "b64a82a6-d787-4ec2-8fac-71f6e1f56963",
   "metadata": {},
   "outputs": [],
   "source": [
    "# Creating Dataframe for select columns for which we need headmap\n",
    "corr_df = cust_cleaned[['loan_amnt','funded_amnt_inv','annual_inc', 'installment','emp_length_years','open_acc' ]]\n"
   ]
  },
  {
   "cell_type": "code",
   "execution_count": null,
   "id": "19e3a4d3-fc1b-44e8-bb80-181047a03adb",
   "metadata": {},
   "outputs": [],
   "source": [
    "#Heatmap Creation / Generation\n",
    "sns.heatmap(corr_df.corr(),annot=True, cmap='Greens')\n",
    "plt.title('Heatmap of the Loan Data set', size=15)\n",
    "plt.show()"
   ]
  },
  {
   "cell_type": "markdown",
   "id": "f3f94997-ad32-4981-9a82-7b59f44e7dcf",
   "metadata": {},
   "source": [
    "**Positive corelation between the loan amount, funded amount and the installment is seen**\n",
    "\n"
   ]
  }
 ],
 "metadata": {
  "kernelspec": {
   "display_name": "Python 3 (ipykernel)",
   "language": "python",
   "name": "python3"
  },
  "language_info": {
   "codemirror_mode": {
    "name": "ipython",
    "version": 3
   },
   "file_extension": ".py",
   "mimetype": "text/x-python",
   "name": "python",
   "nbconvert_exporter": "python",
   "pygments_lexer": "ipython3",
   "version": "3.12.4"
  }
 },
 "nbformat": 4,
 "nbformat_minor": 5
}
